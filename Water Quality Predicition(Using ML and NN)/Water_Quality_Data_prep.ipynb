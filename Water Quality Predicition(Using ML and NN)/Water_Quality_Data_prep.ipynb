{
 "cells": [
  {
   "cell_type": "markdown",
   "id": "e1304e83",
   "metadata": {},
   "source": [
    "# Water Quality Data Preparation (Target = Site_ID)"
   ]
  },
  {
   "cell_type": "markdown",
   "id": "8581b1ee",
   "metadata": {},
   "source": [
    "\n",
    "This data is Sourced by Department of the Interior, Water quality data for the Refuge collected by volunteers collected once every two weeks: Turbidity, pH, Dissolved oxygen (DO),Salinity & Temperature. Sampling will occur at designated locations in the following water bodies: the Bay, D-Pool (fishing pond), C-Pool, B-Pool and A-Pool.\n",
    "\n",
    "Problem Statment: to categorize areas into Bay,A, B, C , D pool( which are differentiated by the water Quality). which will further detect changes in water quality early on, indicating potential contamination. This can help authorities take timely action to prevent the spread of contaminants and ensure the safety of the water supply. \n",
    "\n",
    "How will building this model will help: model can be trained to predict water quality based on various parameters such as pH, temperature, and turbidity.to understand the contamination of the water source.This can help in targeting resources such as testing, treatment, and monitoring efforts, to the areas that need them the most. This can save time, money, and effort in managing water quality.This can also help in reducing the incidence of water-borne diseases and ensure safe drinking water for all."
   ]
  },
  {
   "cell_type": "markdown",
   "id": "e802b587",
   "metadata": {},
   "source": [
    "## 1.0 Setup"
   ]
  },
  {
   "cell_type": "code",
   "execution_count": 491,
   "id": "57126527",
   "metadata": {},
   "outputs": [],
   "source": [
    "import pandas as pd\n",
    "import numpy as np"
   ]
  },
  {
   "cell_type": "code",
   "execution_count": 492,
   "id": "3f7a61fa",
   "metadata": {},
   "outputs": [],
   "source": [
    "# import numpy and pandas libraries\n",
    "import numpy as np\n",
    "import pandas as pd\n",
    "from sklearn.preprocessing import LabelEncoder\n",
    "from sklearn.model_selection import train_test_split\n",
    "from sklearn import preprocessing\n",
    "from sklearn.impute import SimpleImputer\n",
    "# set random seed to ensure that results are repeatable\n",
    "np.random.seed(1)"
   ]
  },
  {
   "cell_type": "markdown",
   "id": "64b946a2",
   "metadata": {},
   "source": [
    "## 2.0 Load data "
   ]
  },
  {
   "cell_type": "code",
   "execution_count": 493,
   "id": "1efa2830",
   "metadata": {},
   "outputs": [],
   "source": [
    "df = pd.read_csv('BKB_WaterQualityData_2020084.csv')"
   ]
  },
  {
   "cell_type": "code",
   "execution_count": 494,
   "id": "b7686805",
   "metadata": {},
   "outputs": [
    {
     "data": {
      "text/html": [
       "<div>\n",
       "<style scoped>\n",
       "    .dataframe tbody tr th:only-of-type {\n",
       "        vertical-align: middle;\n",
       "    }\n",
       "\n",
       "    .dataframe tbody tr th {\n",
       "        vertical-align: top;\n",
       "    }\n",
       "\n",
       "    .dataframe thead th {\n",
       "        text-align: right;\n",
       "    }\n",
       "</style>\n",
       "<table border=\"1\" class=\"dataframe\">\n",
       "  <thead>\n",
       "    <tr style=\"text-align: right;\">\n",
       "      <th></th>\n",
       "      <th>Site_Id</th>\n",
       "      <th>Unit_Id</th>\n",
       "      <th>Read_Date</th>\n",
       "      <th>Salinity (ppt)</th>\n",
       "      <th>Dissolved Oxygen (mg/L)</th>\n",
       "      <th>pH (standard units)</th>\n",
       "      <th>Secchi Depth (m)</th>\n",
       "      <th>Water Depth (m)</th>\n",
       "      <th>Water Temp (?C)</th>\n",
       "      <th>Air Temp-Celsius</th>\n",
       "      <th>Air Temp (?F)</th>\n",
       "      <th>Time (24:00)</th>\n",
       "      <th>Field_Tech</th>\n",
       "      <th>DateVerified</th>\n",
       "      <th>WhoVerified</th>\n",
       "      <th>AirTemp (C)</th>\n",
       "      <th>Year</th>\n",
       "    </tr>\n",
       "  </thead>\n",
       "  <tbody>\n",
       "    <tr>\n",
       "      <th>0</th>\n",
       "      <td>Bay</td>\n",
       "      <td>NaN</td>\n",
       "      <td>1/3/1994</td>\n",
       "      <td>1.3</td>\n",
       "      <td>11.7</td>\n",
       "      <td>7.3</td>\n",
       "      <td>0.40</td>\n",
       "      <td>0.40</td>\n",
       "      <td>5.9</td>\n",
       "      <td>8.0</td>\n",
       "      <td>46.40</td>\n",
       "      <td>11:00</td>\n",
       "      <td>NaN</td>\n",
       "      <td>NaN</td>\n",
       "      <td>NaN</td>\n",
       "      <td>8.0</td>\n",
       "      <td>1994</td>\n",
       "    </tr>\n",
       "    <tr>\n",
       "      <th>1</th>\n",
       "      <td>Bay</td>\n",
       "      <td>NaN</td>\n",
       "      <td>1/31/1994</td>\n",
       "      <td>1.5</td>\n",
       "      <td>12.0</td>\n",
       "      <td>7.4</td>\n",
       "      <td>0.20</td>\n",
       "      <td>0.35</td>\n",
       "      <td>3.0</td>\n",
       "      <td>2.6</td>\n",
       "      <td>36.68</td>\n",
       "      <td>11:30</td>\n",
       "      <td>NaN</td>\n",
       "      <td>NaN</td>\n",
       "      <td>NaN</td>\n",
       "      <td>2.6</td>\n",
       "      <td>1994</td>\n",
       "    </tr>\n",
       "    <tr>\n",
       "      <th>2</th>\n",
       "      <td>Bay</td>\n",
       "      <td>NaN</td>\n",
       "      <td>2/7/1994</td>\n",
       "      <td>1.0</td>\n",
       "      <td>10.5</td>\n",
       "      <td>7.2</td>\n",
       "      <td>0.25</td>\n",
       "      <td>0.60</td>\n",
       "      <td>5.9</td>\n",
       "      <td>7.6</td>\n",
       "      <td>45.68</td>\n",
       "      <td>9:45</td>\n",
       "      <td>NaN</td>\n",
       "      <td>NaN</td>\n",
       "      <td>NaN</td>\n",
       "      <td>7.6</td>\n",
       "      <td>1994</td>\n",
       "    </tr>\n",
       "    <tr>\n",
       "      <th>3</th>\n",
       "      <td>Bay</td>\n",
       "      <td>NaN</td>\n",
       "      <td>2/23/1994</td>\n",
       "      <td>1.0</td>\n",
       "      <td>10.1</td>\n",
       "      <td>7.4</td>\n",
       "      <td>0.35</td>\n",
       "      <td>0.50</td>\n",
       "      <td>10.0</td>\n",
       "      <td>2.7</td>\n",
       "      <td>36.86</td>\n",
       "      <td>NaN</td>\n",
       "      <td>NaN</td>\n",
       "      <td>NaN</td>\n",
       "      <td>NaN</td>\n",
       "      <td>2.7</td>\n",
       "      <td>1994</td>\n",
       "    </tr>\n",
       "    <tr>\n",
       "      <th>4</th>\n",
       "      <td>Bay</td>\n",
       "      <td>NaN</td>\n",
       "      <td>2/28/1994</td>\n",
       "      <td>1.0</td>\n",
       "      <td>12.6</td>\n",
       "      <td>7.2</td>\n",
       "      <td>0.20</td>\n",
       "      <td>0.40</td>\n",
       "      <td>1.6</td>\n",
       "      <td>0.0</td>\n",
       "      <td>32.00</td>\n",
       "      <td>10:30</td>\n",
       "      <td>NaN</td>\n",
       "      <td>NaN</td>\n",
       "      <td>NaN</td>\n",
       "      <td>0.0</td>\n",
       "      <td>1994</td>\n",
       "    </tr>\n",
       "  </tbody>\n",
       "</table>\n",
       "</div>"
      ],
      "text/plain": [
       "  Site_Id Unit_Id  Read_Date  Salinity (ppt)  Dissolved Oxygen (mg/L)  \\\n",
       "0     Bay     NaN   1/3/1994             1.3                     11.7   \n",
       "1     Bay     NaN  1/31/1994             1.5                     12.0   \n",
       "2     Bay     NaN   2/7/1994             1.0                     10.5   \n",
       "3     Bay     NaN  2/23/1994             1.0                     10.1   \n",
       "4     Bay     NaN  2/28/1994             1.0                     12.6   \n",
       "\n",
       "   pH (standard units)  Secchi Depth (m)  Water Depth (m)  Water Temp (?C)  \\\n",
       "0                  7.3              0.40             0.40              5.9   \n",
       "1                  7.4              0.20             0.35              3.0   \n",
       "2                  7.2              0.25             0.60              5.9   \n",
       "3                  7.4              0.35             0.50             10.0   \n",
       "4                  7.2              0.20             0.40              1.6   \n",
       "\n",
       "   Air Temp-Celsius  Air Temp (?F) Time (24:00) Field_Tech DateVerified  \\\n",
       "0               8.0          46.40        11:00        NaN          NaN   \n",
       "1               2.6          36.68        11:30        NaN          NaN   \n",
       "2               7.6          45.68         9:45        NaN          NaN   \n",
       "3               2.7          36.86          NaN        NaN          NaN   \n",
       "4               0.0          32.00        10:30        NaN          NaN   \n",
       "\n",
       "  WhoVerified  AirTemp (C)  Year  \n",
       "0         NaN          8.0  1994  \n",
       "1         NaN          2.6  1994  \n",
       "2         NaN          7.6  1994  \n",
       "3         NaN          2.7  1994  \n",
       "4         NaN          0.0  1994  "
      ]
     },
     "execution_count": 494,
     "metadata": {},
     "output_type": "execute_result"
    }
   ],
   "source": [
    "df.head()"
   ]
  },
  {
   "cell_type": "markdown",
   "id": "1414052e",
   "metadata": {},
   "source": [
    "## 3.0 Conduct initial exploration of the data"
   ]
  },
  {
   "cell_type": "code",
   "execution_count": 495,
   "id": "dd3f81c6",
   "metadata": {},
   "outputs": [
    {
     "data": {
      "text/plain": [
       "(2371, 17)"
      ]
     },
     "execution_count": 495,
     "metadata": {},
     "output_type": "execute_result"
    }
   ],
   "source": [
    "# How many rows and columns\n",
    "df.shape"
   ]
  },
  {
   "cell_type": "code",
   "execution_count": 496,
   "id": "5802f3c2",
   "metadata": {},
   "outputs": [
    {
     "data": {
      "text/plain": [
       "Site_Id                       1\n",
       "Unit_Id                    2339\n",
       "Read_Date                     5\n",
       "Salinity (ppt)              130\n",
       "Dissolved Oxygen (mg/L)     851\n",
       "pH (standard units)          95\n",
       "Secchi Depth (m)             73\n",
       "Water Depth (m)              71\n",
       "Water Temp (?C)             121\n",
       "Air Temp-Celsius           2286\n",
       "Air Temp (?F)                71\n",
       "Time (24:00)                 63\n",
       "Field_Tech                   39\n",
       "DateVerified               1918\n",
       "WhoVerified                1918\n",
       "AirTemp (C)                   0\n",
       "Year                          0\n",
       "dtype: int64"
      ]
     },
     "execution_count": 496,
     "metadata": {},
     "output_type": "execute_result"
    }
   ],
   "source": [
    "#How much of a problem do we have with na's?\n",
    "df.isnull().sum()"
   ]
  },
  {
   "cell_type": "code",
   "execution_count": 497,
   "id": "e3b7113f",
   "metadata": {},
   "outputs": [
    {
     "name": "stdout",
     "output_type": "stream",
     "text": [
      "<class 'pandas.core.frame.DataFrame'>\n",
      "RangeIndex: 2371 entries, 0 to 2370\n",
      "Data columns (total 17 columns):\n",
      " #   Column                   Non-Null Count  Dtype  \n",
      "---  ------                   --------------  -----  \n",
      " 0   Site_Id                  2370 non-null   object \n",
      " 1   Unit_Id                  32 non-null     object \n",
      " 2   Read_Date                2366 non-null   object \n",
      " 3   Salinity (ppt)           2241 non-null   float64\n",
      " 4   Dissolved Oxygen (mg/L)  1520 non-null   float64\n",
      " 5   pH (standard units)      2276 non-null   float64\n",
      " 6   Secchi Depth (m)         2298 non-null   float64\n",
      " 7   Water Depth (m)          2300 non-null   float64\n",
      " 8   Water Temp (?C)          2250 non-null   float64\n",
      " 9   Air Temp-Celsius         85 non-null     float64\n",
      " 10  Air Temp (?F)            2300 non-null   float64\n",
      " 11  Time (24:00)             2308 non-null   object \n",
      " 12  Field_Tech               2332 non-null   object \n",
      " 13  DateVerified             453 non-null    object \n",
      " 14  WhoVerified              453 non-null    object \n",
      " 15  AirTemp (C)              2371 non-null   float64\n",
      " 16  Year                     2371 non-null   int64  \n",
      "dtypes: float64(9), int64(1), object(7)\n",
      "memory usage: 315.0+ KB\n"
     ]
    }
   ],
   "source": [
    "#What types of data are there?\n",
    "df.info()"
   ]
  },
  {
   "cell_type": "code",
   "execution_count": 498,
   "id": "e615be40",
   "metadata": {},
   "outputs": [
    {
     "data": {
      "text/html": [
       "<div>\n",
       "<style scoped>\n",
       "    .dataframe tbody tr th:only-of-type {\n",
       "        vertical-align: middle;\n",
       "    }\n",
       "\n",
       "    .dataframe tbody tr th {\n",
       "        vertical-align: top;\n",
       "    }\n",
       "\n",
       "    .dataframe thead th {\n",
       "        text-align: right;\n",
       "    }\n",
       "</style>\n",
       "<table border=\"1\" class=\"dataframe\">\n",
       "  <thead>\n",
       "    <tr style=\"text-align: right;\">\n",
       "      <th></th>\n",
       "      <th>Salinity (ppt)</th>\n",
       "      <th>Dissolved Oxygen (mg/L)</th>\n",
       "      <th>pH (standard units)</th>\n",
       "      <th>Secchi Depth (m)</th>\n",
       "      <th>Water Depth (m)</th>\n",
       "      <th>Water Temp (?C)</th>\n",
       "      <th>Air Temp-Celsius</th>\n",
       "      <th>Air Temp (?F)</th>\n",
       "      <th>AirTemp (C)</th>\n",
       "      <th>Year</th>\n",
       "    </tr>\n",
       "  </thead>\n",
       "  <tbody>\n",
       "    <tr>\n",
       "      <th>count</th>\n",
       "      <td>2241.000000</td>\n",
       "      <td>1520.000000</td>\n",
       "      <td>2276.000000</td>\n",
       "      <td>2298.000000</td>\n",
       "      <td>2300.000000</td>\n",
       "      <td>2250.000000</td>\n",
       "      <td>85.000000</td>\n",
       "      <td>2300.000000</td>\n",
       "      <td>2371.000000</td>\n",
       "      <td>2371.000000</td>\n",
       "    </tr>\n",
       "    <tr>\n",
       "      <th>mean</th>\n",
       "      <td>0.717068</td>\n",
       "      <td>6.646263</td>\n",
       "      <td>7.168212</td>\n",
       "      <td>0.524898</td>\n",
       "      <td>0.762559</td>\n",
       "      <td>18.062138</td>\n",
       "      <td>16.437647</td>\n",
       "      <td>62.051637</td>\n",
       "      <td>15.663050</td>\n",
       "      <td>2006.049346</td>\n",
       "    </tr>\n",
       "    <tr>\n",
       "      <th>std</th>\n",
       "      <td>1.230819</td>\n",
       "      <td>2.506608</td>\n",
       "      <td>0.788485</td>\n",
       "      <td>0.473663</td>\n",
       "      <td>0.621140</td>\n",
       "      <td>8.298246</td>\n",
       "      <td>11.754138</td>\n",
       "      <td>15.492236</td>\n",
       "      <td>10.314720</td>\n",
       "      <td>9.002373</td>\n",
       "    </tr>\n",
       "    <tr>\n",
       "      <th>min</th>\n",
       "      <td>0.000000</td>\n",
       "      <td>0.000000</td>\n",
       "      <td>0.300000</td>\n",
       "      <td>0.000000</td>\n",
       "      <td>0.010000</td>\n",
       "      <td>0.000000</td>\n",
       "      <td>0.000000</td>\n",
       "      <td>10.500000</td>\n",
       "      <td>-17.777778</td>\n",
       "      <td>1899.000000</td>\n",
       "    </tr>\n",
       "    <tr>\n",
       "      <th>25%</th>\n",
       "      <td>0.000000</td>\n",
       "      <td>4.800000</td>\n",
       "      <td>6.500000</td>\n",
       "      <td>0.300000</td>\n",
       "      <td>0.400000</td>\n",
       "      <td>11.000000</td>\n",
       "      <td>9.000000</td>\n",
       "      <td>49.000000</td>\n",
       "      <td>8.888889</td>\n",
       "      <td>2001.000000</td>\n",
       "    </tr>\n",
       "    <tr>\n",
       "      <th>50%</th>\n",
       "      <td>0.000000</td>\n",
       "      <td>6.500000</td>\n",
       "      <td>7.000000</td>\n",
       "      <td>0.400000</td>\n",
       "      <td>0.650000</td>\n",
       "      <td>19.000000</td>\n",
       "      <td>15.000000</td>\n",
       "      <td>63.000000</td>\n",
       "      <td>16.666667</td>\n",
       "      <td>2007.000000</td>\n",
       "    </tr>\n",
       "    <tr>\n",
       "      <th>75%</th>\n",
       "      <td>1.000000</td>\n",
       "      <td>8.500000</td>\n",
       "      <td>7.500000</td>\n",
       "      <td>0.650000</td>\n",
       "      <td>0.950000</td>\n",
       "      <td>25.000000</td>\n",
       "      <td>21.700000</td>\n",
       "      <td>75.000000</td>\n",
       "      <td>23.888889</td>\n",
       "      <td>2012.000000</td>\n",
       "    </tr>\n",
       "    <tr>\n",
       "      <th>max</th>\n",
       "      <td>9.000000</td>\n",
       "      <td>15.100000</td>\n",
       "      <td>9.900000</td>\n",
       "      <td>9.000000</td>\n",
       "      <td>12.000000</td>\n",
       "      <td>74.000000</td>\n",
       "      <td>74.000000</td>\n",
       "      <td>92.300000</td>\n",
       "      <td>33.500000</td>\n",
       "      <td>2019.000000</td>\n",
       "    </tr>\n",
       "  </tbody>\n",
       "</table>\n",
       "</div>"
      ],
      "text/plain": [
       "       Salinity (ppt)  Dissolved Oxygen (mg/L)  pH (standard units)  \\\n",
       "count     2241.000000              1520.000000          2276.000000   \n",
       "mean         0.717068                 6.646263             7.168212   \n",
       "std          1.230819                 2.506608             0.788485   \n",
       "min          0.000000                 0.000000             0.300000   \n",
       "25%          0.000000                 4.800000             6.500000   \n",
       "50%          0.000000                 6.500000             7.000000   \n",
       "75%          1.000000                 8.500000             7.500000   \n",
       "max          9.000000                15.100000             9.900000   \n",
       "\n",
       "       Secchi Depth (m)  Water Depth (m)  Water Temp (?C)  Air Temp-Celsius  \\\n",
       "count       2298.000000      2300.000000      2250.000000         85.000000   \n",
       "mean           0.524898         0.762559        18.062138         16.437647   \n",
       "std            0.473663         0.621140         8.298246         11.754138   \n",
       "min            0.000000         0.010000         0.000000          0.000000   \n",
       "25%            0.300000         0.400000        11.000000          9.000000   \n",
       "50%            0.400000         0.650000        19.000000         15.000000   \n",
       "75%            0.650000         0.950000        25.000000         21.700000   \n",
       "max            9.000000        12.000000        74.000000         74.000000   \n",
       "\n",
       "       Air Temp (?F)  AirTemp (C)         Year  \n",
       "count    2300.000000  2371.000000  2371.000000  \n",
       "mean       62.051637    15.663050  2006.049346  \n",
       "std        15.492236    10.314720     9.002373  \n",
       "min        10.500000   -17.777778  1899.000000  \n",
       "25%        49.000000     8.888889  2001.000000  \n",
       "50%        63.000000    16.666667  2007.000000  \n",
       "75%        75.000000    23.888889  2012.000000  \n",
       "max        92.300000    33.500000  2019.000000  "
      ]
     },
     "execution_count": 498,
     "metadata": {},
     "output_type": "execute_result"
    }
   ],
   "source": [
    "# generate a statistical summary of the numeric value in the data\n",
    "df.describe()"
   ]
  },
  {
   "cell_type": "code",
   "execution_count": 499,
   "id": "c9126238",
   "metadata": {},
   "outputs": [
    {
     "data": {
      "text/html": [
       "<style type=\"text/css\">\n",
       "#T_da912 thead>tr>th {\n",
       "  text-align: left;\n",
       "}\n",
       "#T_da912_row0_col0, #T_da912_row1_col0, #T_da912_row2_col0, #T_da912_row3_col0, #T_da912_row4_col0, #T_da912_row5_col0, #T_da912_row6_col0, #T_da912_row7_col0, #T_da912_row8_col0, #T_da912_row9_col0, #T_da912_row10_col0, #T_da912_row11_col0, #T_da912_row12_col0, #T_da912_row13_col0, #T_da912_row14_col0, #T_da912_row15_col0, #T_da912_row16_col0 {\n",
       "  text-align: left;\n",
       "  font-size: 12px;\n",
       "  vertical-align: middle;\n",
       "  width: 5%;\n",
       "  max-width: 50px;\n",
       "  min-width: 20px;\n",
       "}\n",
       "#T_da912_row0_col1, #T_da912_row1_col1, #T_da912_row2_col1, #T_da912_row3_col1, #T_da912_row4_col1, #T_da912_row5_col1, #T_da912_row6_col1, #T_da912_row7_col1, #T_da912_row8_col1, #T_da912_row9_col1, #T_da912_row10_col1, #T_da912_row11_col1, #T_da912_row12_col1, #T_da912_row13_col1, #T_da912_row14_col1, #T_da912_row15_col1, #T_da912_row16_col1 {\n",
       "  text-align: left;\n",
       "  font-size: 12px;\n",
       "  vertical-align: middle;\n",
       "  width: 15%;\n",
       "  max-width: 200px;\n",
       "  min-width: 100px;\n",
       "  word-break: break-word;\n",
       "}\n",
       "#T_da912_row0_col2, #T_da912_row1_col2, #T_da912_row2_col2, #T_da912_row3_col2, #T_da912_row4_col2, #T_da912_row5_col2, #T_da912_row6_col2, #T_da912_row7_col2, #T_da912_row8_col2, #T_da912_row9_col2, #T_da912_row10_col2, #T_da912_row11_col2, #T_da912_row12_col2, #T_da912_row13_col2, #T_da912_row14_col2, #T_da912_row15_col2, #T_da912_row16_col2 {\n",
       "  text-align: left;\n",
       "  font-size: 12px;\n",
       "  vertical-align: middle;\n",
       "  width: 30%;\n",
       "  min-width: 100px;\n",
       "}\n",
       "#T_da912_row0_col3, #T_da912_row1_col3, #T_da912_row2_col3, #T_da912_row3_col3, #T_da912_row4_col3, #T_da912_row5_col3, #T_da912_row6_col3, #T_da912_row7_col3, #T_da912_row8_col3, #T_da912_row9_col3, #T_da912_row10_col3, #T_da912_row11_col3, #T_da912_row12_col3, #T_da912_row13_col3, #T_da912_row14_col3, #T_da912_row15_col3, #T_da912_row16_col3 {\n",
       "  text-align: left;\n",
       "  font-size: 12px;\n",
       "  vertical-align: middle;\n",
       "  width: 25%;\n",
       "  min-width: 100px;\n",
       "}\n",
       "#T_da912_row0_col4, #T_da912_row1_col4, #T_da912_row2_col4, #T_da912_row3_col4, #T_da912_row4_col4, #T_da912_row5_col4, #T_da912_row6_col4, #T_da912_row7_col4, #T_da912_row8_col4, #T_da912_row9_col4, #T_da912_row10_col4, #T_da912_row11_col4, #T_da912_row12_col4, #T_da912_row13_col4, #T_da912_row14_col4, #T_da912_row15_col4, #T_da912_row16_col4 {\n",
       "  text-align: left;\n",
       "  font-size: 12px;\n",
       "  vertical-align: middle;\n",
       "  width: 20%;\n",
       "  min-width: 150px;\n",
       "}\n",
       "#T_da912_row0_col5, #T_da912_row1_col5, #T_da912_row2_col5, #T_da912_row3_col5, #T_da912_row4_col5, #T_da912_row5_col5, #T_da912_row6_col5, #T_da912_row7_col5, #T_da912_row8_col5, #T_da912_row9_col5, #T_da912_row10_col5, #T_da912_row11_col5, #T_da912_row12_col5, #T_da912_row13_col5, #T_da912_row14_col5, #T_da912_row15_col5, #T_da912_row16_col5 {\n",
       "  text-align: left;\n",
       "  font-size: 12px;\n",
       "  vertical-align: middle;\n",
       "  width: 10%;\n",
       "}\n",
       "</style>\n",
       "<table id=\"T_da912\">\n",
       "  <caption><strong>Data Frame Summary</strong><br>df<br>Dimensions: 2,371 x 17<br>Duplicates: 0</caption>\n",
       "  <thead>\n",
       "    <tr>\n",
       "      <th id=\"T_da912_level0_col0\" class=\"col_heading level0 col0\" >No</th>\n",
       "      <th id=\"T_da912_level0_col1\" class=\"col_heading level0 col1\" >Variable</th>\n",
       "      <th id=\"T_da912_level0_col2\" class=\"col_heading level0 col2\" >Stats / Values</th>\n",
       "      <th id=\"T_da912_level0_col3\" class=\"col_heading level0 col3\" >Freqs / (% of Valid)</th>\n",
       "      <th id=\"T_da912_level0_col4\" class=\"col_heading level0 col4\" >Graph</th>\n",
       "      <th id=\"T_da912_level0_col5\" class=\"col_heading level0 col5\" >Missing</th>\n",
       "    </tr>\n",
       "  </thead>\n",
       "  <tbody>\n",
       "    <tr>\n",
       "      <td id=\"T_da912_row0_col0\" class=\"data row0 col0\" >1</td>\n",
       "      <td id=\"T_da912_row0_col1\" class=\"data row0 col1\" ><strong>Site_Id</strong><br>[object]</td>\n",
       "      <td id=\"T_da912_row0_col2\" class=\"data row0 col2\" >1. Bay<br>2. D<br>3. B<br>4. A<br>5. C<br>6. d<br>7. nan</td>\n",
       "      <td id=\"T_da912_row0_col3\" class=\"data row0 col3\" >794 (33.5%)<br>440 (18.6%)<br>437 (18.4%)<br>434 (18.3%)<br>264 (11.1%)<br>1 (0.0%)<br>1 (0.0%)</td>\n",
       "      <td id=\"T_da912_row0_col4\" class=\"data row0 col4\" ><img src = \"data:image/png;base64, iVBORw0KGgoAAAANSUhEUgAAAJsAAAChCAYAAADQgM1HAAAAOXRFWHRTb2Z0d2FyZQBNYXRwbG90bGliIHZlcnNpb24zLjUuMiwgaHR0cHM6Ly9tYXRwbG90bGliLm9yZy8qNh9FAAAACXBIWXMAAA9hAAAPYQGoP6dpAAACxElEQVR4nO3bzW0TUQBG0TeRxc/GVhQpJUAPKYJiKcJF0EMUZRYE2JgFS5AIirkv8pxTwbN0NaOx3recTqcBhavZB2A7xEZGbGTERkZsZJYxxvsxxpvZBzmjH6fT6Wn2Ifjd7ubm5tN+v7+efZBzWdf1YVmWz4J7fXb7/f767u7u6XA4fJt9mJd6fHx8dzwer+/v79+MMcT2yuzGGONwOHy7vb39OvswZ/J+9gH4Mx8IZMRGRmxkxEZGbGTERkZsZMRGRmxkxEZGbGTERkZsZHZj/LqaM/sg53Apv+NS7dZ1fTgej9fjQq7mrOv6MMb4Mfsc/M61cDKLRTyVWU82T58NmjJ4MUrZpnzwYpSyXbMGLxfx5cu/8acuGbGRERsZsZERGxmxkREbGbGRERsZsZERGxmxkREbGbGRyddVFlDbNWVdZQG1TTYIZKyryHiykbGuImNdRca6iow/dcmIjYzYyIiNjNjIiI2M2MiIjYzYyIiNjNjIiI2M2MgYvJAxeCHjWjgZgxcyPhDIzHiNeoVuVL6usqzarnRdZVm1bTPWVZZVG+UDgYzYyIiNjNjIiI2M2MiIjYzYyIiNjNjIiI2M2MiIjUy6rrKs2rZ8XWVZtV2uhZOxriJzriebpxV/dZbBixELz/HiwYsRC891rsGLEQt/5U9dMmIjIzYyYiMjNjJiIyM2MmIjIzYyYiMjNjJiIyM2Mi8evBix8FxnGbwYsfAcroWTMXgh4wOBjNjIXC3L8nFZFl+U/HdXY4wPY4y3sw/C5fMaJSM2MmIjIzYyYiMjNjJiIyM2MmIjIzYyYiMjNjJiIyM2MmIjczXG+DLG+D77IFw+gxcyXqNkxEbG4IWMwQsZr1EyYiMjNjJiIyM2MmIjIzYyYiMjNjJiIyM2MmIjIzYyYiMjNjJiI2NdRca6iozXKBmxkREbGbGRERuZn5QvGPUqnIdlAAAAAElFTkSuQmCC\"></img></td>\n",
       "      <td id=\"T_da912_row0_col5\" class=\"data row0 col5\" >1<br>(0.0%)</td>\n",
       "    </tr>\n",
       "    <tr>\n",
       "      <td id=\"T_da912_row1_col0\" class=\"data row1 col0\" >2</td>\n",
       "      <td id=\"T_da912_row1_col1\" class=\"data row1 col1\" ><strong>Unit_Id</strong><br>[object]</td>\n",
       "      <td id=\"T_da912_row1_col2\" class=\"data row1 col2\" >1. nan<br>2. 01csv<br>3. 01CSV</td>\n",
       "      <td id=\"T_da912_row1_col3\" class=\"data row1 col3\" >2,339 (98.7%)<br>28 (1.2%)<br>4 (0.2%)</td>\n",
       "      <td id=\"T_da912_row1_col4\" class=\"data row1 col4\" ><img src = \"data:image/png;base64, iVBORw0KGgoAAAANSUhEUgAAAJsAAABFCAYAAABdVZTTAAAAOXRFWHRTb2Z0d2FyZQBNYXRwbG90bGliIHZlcnNpb24zLjUuMiwgaHR0cHM6Ly9tYXRwbG90bGliLm9yZy8qNh9FAAAACXBIWXMAAA9hAAAPYQGoP6dpAAABoUlEQVR4nO3cvW3DMBRF4UtCcKKGgmDAIySdB/AQGTZDaACX2cEQzCJy3DBFHMMDRJcAc74JXnGgH0JPoZQiwCHWHgD/R5DUS9rUHgRNu5ZSlm673b6llMba06BdOec5hPDepZTGw+GwDMNwqT0U2nM+n5+naRpPp9Omk6RhGC673e6z9mBoVi/xggAjYoMNscGG2GBDbLAhNtgQG2yIDTbEBhtigw2xwYbYYENssCE22HTSzzdHtQdBmx7b6nLO8zRNo27fHAF/Lec8S7qygwCHayllCazyweXxynYtpSyV50HD7ttVvxswBIe1xJTSuN/vdVvn49kNq4mS1Pf9V+1B0D4OdWFDbLAhNtgQG2yIDTbEBhtigw2xwYbYYENssCE22BAbbIgNNsQGmyhJy7I81R4E7Ys55/l4PN43YGoPhHaxgwAbtqtgwwsCbIgNNjGE8BpC4F8fWF2U9CKJow+sjtsobIgNNsQGG2KDDbHBhthgQ2ywITbYEBtsiA02xAYbYoMNscGG2GBDbLAhNthESR+S+DU9Vsd2FWy4jcLmG8RFXzQh/eqoAAAAAElFTkSuQmCC\"></img></td>\n",
       "      <td id=\"T_da912_row1_col5\" class=\"data row1 col5\" >2,339<br>(98.7%)</td>\n",
       "    </tr>\n",
       "    <tr>\n",
       "      <td id=\"T_da912_row2_col0\" class=\"data row2 col0\" >3</td>\n",
       "      <td id=\"T_da912_row2_col1\" class=\"data row2 col1\" ><strong>Read_Date</strong><br>[object]</td>\n",
       "      <td id=\"T_da912_row2_col2\" class=\"data row2 col2\" >1. 4/4/2017<br>2. 11/20/2001<br>3. 9/7/2006<br>4. 3/9/2006<br>5. 3/15/2006<br>6. 4/6/2006<br>7. 5/5/2006<br>8. 5/17/2006<br>9. 6/1/2006<br>10. 7/6/2006<br>11. other</td>\n",
       "      <td id=\"T_da912_row2_col3\" class=\"data row2 col3\" >6 (0.3%)<br>5 (0.2%)<br>5 (0.2%)<br>5 (0.2%)<br>5 (0.2%)<br>5 (0.2%)<br>5 (0.2%)<br>5 (0.2%)<br>5 (0.2%)<br>5 (0.2%)<br>2,320 (97.8%)</td>\n",
       "      <td id=\"T_da912_row2_col4\" class=\"data row2 col4\" ><img src = \"data:image/png;base64, iVBORw0KGgoAAAANSUhEUgAAAJsAAAD+CAYAAAAtWHdlAAAAOXRFWHRTb2Z0d2FyZQBNYXRwbG90bGliIHZlcnNpb24zLjUuMiwgaHR0cHM6Ly9tYXRwbG90bGliLm9yZy8qNh9FAAAACXBIWXMAAA9hAAAPYQGoP6dpAAADaElEQVR4nO3cQWoUYRRG0VehiWbSTQhkCbqHLMLFuohehHsIITUwMZNyIIo41lvQnjPK8B9ceDTUl2XbtoHC1d4P4P8hNjJiIyM2MmIjIzYyYiMjNjJiIyM2MlfLsnxcluX93g/h8l3NzIeZebf3Q7h8zigZsZERGxmxkREbGbGRERsZsZERGxmxkREbGbGRERsZsZERGxmxkbmamS8z823vh3D5Fv/FiIozSkZsZKyryFhXkXFGyYiNjNjIiI2M2MiIjYzYyIiNjNjIiI2M2MiIjYzYyIiNjNjIGLyQMXgh44ySERsZgxcyBi9knFEyYiMjNjJiIyM2MmIjIzYyYiMjNjJiIyM2MmIjIzYyYiMjNjIGL2QMXsg4o2TERkZsZKyryFhXkXFGyYiNjNjIiI2M2MiIjYzYyIiNjNjIiI2M2MiIjYzYyIiNjNjIWFeRsa4i44ySERsZgxcyBi9knFEyYiMjNjJiIyM2MmIjIzYyYiMjNjJiIyM2MmIjIzYyYiMjNjIGL2QMXsg4o2TERsbghYzBCxlnlIzYyIiNjNjIiI2M2MiIjYzYyIiNjNjIiI2M2MiIjYzYyIiNjNjIWFeRsa4i44ySERsZ6yoy1lVknFEyYiMjNjJiIyM2MmIjIzYyYiMjNjJiIyM2MmIjIzYyYiMjNjIGL2QMXsg4o2TERsbghYzBCxlnlIzYyIiNjNjIiI2M2MiIjYzYyIiNjNjIiI2M2MiIjYzYyIiNjMELGYMXMs4oGbGRERsZ6yoy1lVknFEyYiMjNjJiIyM2MmIjIzYyYiMjNjJiIyM2MmIjIzYyYiMjNjLWVWSsq8g4o2TERsbghYzBCxlnlIzYyIiNjNjIiI2M2MiIjYzYyIiNjNjIiI2M2MiIjYzYyIiNjMELGYMXMs4omWVmbmbmeu+HcLHetm17mZk53N3dfToej7d7v4jLtK7r07Isn7dtezkcj8fbh4eHl9Pp9Lr3w7gsz8/P78/n8+3j4+P1zLwcZmZOp9Pr/f39153fxmW6+fmHHwhkxEZGbGTERkZsZMRGRmxkxEZGbGTERkZsZMRGRmxkDjM/PgXZ+yFcnj+7Oqzr+nQ+n2/nt09B4G9Z1/VpZt5mfBbOv/frs3DrKjJ+IJARGxmxkREbGbGRERsZsZERGxmxkfkOCvhuJDOJMoEAAAAASUVORK5CYII=\"></img></td>\n",
       "      <td id=\"T_da912_row2_col5\" class=\"data row2 col5\" >5<br>(0.2%)</td>\n",
       "    </tr>\n",
       "    <tr>\n",
       "      <td id=\"T_da912_row3_col0\" class=\"data row3 col0\" >4</td>\n",
       "      <td id=\"T_da912_row3_col1\" class=\"data row3 col1\" ><strong>Salinity (ppt)</strong><br>[float64]</td>\n",
       "      <td id=\"T_da912_row3_col2\" class=\"data row3 col2\" >Mean (sd) : 0.7 (1.2)<br>min < med < max:<br>0.0 < 0.0 < 9.0<br>IQR (CV) : 1.0 (0.6)</td>\n",
       "      <td id=\"T_da912_row3_col3\" class=\"data row3 col3\" >61 distinct values</td>\n",
       "      <td id=\"T_da912_row3_col4\" class=\"data row3 col4\" ><img src = \"data:image/png;base64, iVBORw0KGgoAAAANSUhEUgAAAKoAAABGCAYAAABc8A97AAAAOXRFWHRTb2Z0d2FyZQBNYXRwbG90bGliIHZlcnNpb24zLjUuMiwgaHR0cHM6Ly9tYXRwbG90bGliLm9yZy8qNh9FAAAACXBIWXMAAA9hAAAPYQGoP6dpAAACX0lEQVR4nO3avY7aQBhG4W/4k1mQESIxHU36FC65iFzstimRfAVbbJOKDskCW3hNQI5TJYq0m7CMIes3OU/NzBjpyB6P7Oq6NqDtOm99AcBr9M79wDk3NLOB5/zHuq5Lz7HAT38M1Tk3nM1mn8IwnPpMnuf51jl3T6xo6twddRCG4XS5XJaTyeRwycRZlgVJkkzTNB2YGaGikbOPfjOzyWRyiKLoyWP+occY4BlepiCBUCGBUCGBUCGBUCGBUCGBUCGBUCGBUCGBUCGBUCGBUCGBUCGBUCGBUCGBUCGBUCGBUCGBUCGBUCGBUCGBUCGBUCGBUCGBUCGBUCGBUCGBUCGBUCGBUCGBUCGBUCGBUCGBUCGBUCGBUCGBUCGBUCGBUCGBUCGBUCGBUCGBUCGBUCGBUCGBUCGBUCGBUCGhd8vJq6rqm1nonPOd4ljXdXnFS4Kom4VaFEX/dDp9XCwW3W63e/CZI8/zrXPunlhxs1CPx2MvCIK7OI4P8/l8e+n4LMuCJEmmaZoOzIxQ/3M3ffSbmY1Go0MURU+ew4dXvRjI4mUKEggVEggVEggVEm7+MtVEw3PYjpl9a7A8Z7gt0tpQm5zDVlXVL4riw3g8/tLpdE4+63OG2y6tDbXJOex6vZ4+PDy8j+P4kTPcf0NrQ/3B5xx2u90Ofcf+gjPcFml9qG+l4f6Y/e2VEeoLmn6nwP72+gj1BU32x1mWBavVKkrT9J1zLvdZnsCfe1WoWZYFl0683+8DM7OiKILNZnP3N8dfa20fZVk2uhvvdru9c+6zmXl9cSbsa13Xv/3P3wGGUOVDjrclkQAAAABJRU5ErkJggg==\"></img></td>\n",
       "      <td id=\"T_da912_row3_col5\" class=\"data row3 col5\" >130<br>(5.5%)</td>\n",
       "    </tr>\n",
       "    <tr>\n",
       "      <td id=\"T_da912_row4_col0\" class=\"data row4 col0\" >5</td>\n",
       "      <td id=\"T_da912_row4_col1\" class=\"data row4 col1\" ><strong>Dissolved Oxygen (mg/L)</strong><br>[float64]</td>\n",
       "      <td id=\"T_da912_row4_col2\" class=\"data row4 col2\" >Mean (sd) : 6.6 (2.5)<br>min < med < max:<br>0.0 < 6.5 < 15.1<br>IQR (CV) : 3.7 (2.7)</td>\n",
       "      <td id=\"T_da912_row4_col3\" class=\"data row4 col3\" >154 distinct values</td>\n",
       "      <td id=\"T_da912_row4_col4\" class=\"data row4 col4\" ><img src = \"data:image/png;base64, iVBORw0KGgoAAAANSUhEUgAAAKoAAABGCAYAAABc8A97AAAAOXRFWHRTb2Z0d2FyZQBNYXRwbG90bGliIHZlcnNpb24zLjUuMiwgaHR0cHM6Ly9tYXRwbG90bGliLm9yZy8qNh9FAAAACXBIWXMAAA9hAAAPYQGoP6dpAAACpElEQVR4nO3dTW7aQBiA4W9KCOanthAS7LhApS5Y+hA9bI+QBSfgBmwQEkIg3FgY467SFWnqGbueb/I+ewcvXg3BM+MxVVUJ4LsvXd8A8C+eur4BXxljhiLybHn5taqq1ybv57Mj1AeMMcPZbPYjjuOpzfXn8/lojPlJrM0JNlTHETGeTCbzNE3PSZLkdS48nU7Rer2eHg6HZxEh1IYEGarriFgURVSW5bfBYPAyn89/WfyJoc3n4n1Bhioiz3EcT9M0fa07IoqIbLfb6WazGd1ut14bN4f6Qg1VRESSJMltRsTj8ciI6BkeT0EFQoUKQX/1d6Usy76IxMYYm8t5BvsAoTYsy7J+URTfl8tlr9fr1f4hxzPYxwi1Ydfr9SmKotFqtcoXi8WxzrU8g30fobZkPB5bPXEQnsE+xI8pqOD1iOowDRrf7/d+0/eD7ngbqss06NsUaJ7nLyJi8/ULz3gbqjhMgzIFGh6fQxURu2lQpkDDw48pqECoUIFQoQKhQgVChQqEChUIFSoQKlQgVKhAqFCBUKGC93P9n43jfiuRQPdcEapHXPdbiYS754pQPeKy30ok7D1XhOohh/1WIoHuueLHFFQgVKhAqFCBUKECoUIFQoUKhAoVCBUqECpUIFSoQKhQgVChAqFCBUKFCoQKFQgVKhAqVGh1hb/rUeS8hx9vWgu1qaPIeQ8/RNodUTmKvAOhHm/Z+uY+jiL/f0I+3pJdqAEJ+XhLQg1QiMdb8ngKKhAqVCBUqECoUIFQoQKhQgVChQqEChV44I8/fH4t+4ehOizVY5meIr6/lv2vobos1WOZni6+v5b9oxHVeqkey/R0cnkte1mWsbS0xLD1/1GzLIv2+/2o7nWXyyWyvd7l2i4/W+t9i4jsdruvbS4x/A2tCI0YTl7faAAAAABJRU5ErkJggg==\"></img></td>\n",
       "      <td id=\"T_da912_row4_col5\" class=\"data row4 col5\" >851<br>(35.9%)</td>\n",
       "    </tr>\n",
       "    <tr>\n",
       "      <td id=\"T_da912_row5_col0\" class=\"data row5 col0\" >6</td>\n",
       "      <td id=\"T_da912_row5_col1\" class=\"data row5 col1\" ><strong>pH (standard units)</strong><br>[float64]</td>\n",
       "      <td id=\"T_da912_row5_col2\" class=\"data row5 col2\" >Mean (sd) : 7.2 (0.8)<br>min < med < max:<br>0.3 < 7.0 < 9.9<br>IQR (CV) : 1.0 (9.1)</td>\n",
       "      <td id=\"T_da912_row5_col3\" class=\"data row5 col3\" >48 distinct values</td>\n",
       "      <td id=\"T_da912_row5_col4\" class=\"data row5 col4\" ><img src = \"data:image/png;base64, iVBORw0KGgoAAAANSUhEUgAAAKoAAABGCAYAAABc8A97AAAAOXRFWHRTb2Z0d2FyZQBNYXRwbG90bGliIHZlcnNpb24zLjUuMiwgaHR0cHM6Ly9tYXRwbG90bGliLm9yZy8qNh9FAAAACXBIWXMAAA9hAAAPYQGoP6dpAAACdUlEQVR4nO3dsW7aYBSG4XMgUDuJfstCJVuWjpU6MHIRudhcQgeuIEOWTmyREDKKEwvHdpcO7RJigwMffZ/94B94F8tHsjdNY8CpGxz7AMBHXBz7APiXu8dmNt7jI7ZN07we6jynglBPiLvHk8nkLoSQdv2MzWazdvf7c4uVUE/LOISQzufz1yRJirbDWZZFi8UiXa1WYzMjVPQrSZJiOp2+dByPD3qYE8HNFCQQKiQQKiQQKiQQKiQQKiQQKiQQKiQQKiQQKiQQKiQQKiQQKiQQKiQQKiQQKiQQKiQQKiQQKiQQKiQQKiQQKiQQKiQQKiQQKiQQKiQQKiQQKiQQKiQQKiQQKiQQKiQQKiQQKiQQKiQQKiQQKiQQKiQQKiQQKiQQKiQQKiQQKiQQKiQQKiTwdukzU1XVyMyCu3cZH5hZvcflt03T9PL6dUI9I3mej8qy/HF7ezscDodFm9mqqkZ5nn+7vr7+NRgMyi7X32w2a3e/7yNWQj0j2+32Ioqiy9lsVtzc3KzbzC6Xy/Th4eHrbDZ7bDtrZpZlWbRYLNLVajU2M0LFbldXV8V0On1pM7Ner+Ous3+JO87txM0UJBAqJBAqJBAqJBAqJBAqJBAqJBAqJBAqJBAqJPAItQfuHpvZuMNoqOt6dOjzfJY9N7fe3bwi1ANz93gymdyFENK2s2VZRlVVfS+K4qeZdX3efhT7bG6Z7d68ItTDG4cQ0vl8/pokSas/7M8G0+Xb29uwr8P1ZZ/NrY9sXhFqT5Ik6bzBpGyP7at3v/vOUN09MrMvHS78vwp1XV9kWRa1HXx+fo7MzPI8j56eni4/c/6Y1/7Ib/UbE+PSm+P0QswAAAAASUVORK5CYII=\"></img></td>\n",
       "      <td id=\"T_da912_row5_col5\" class=\"data row5 col5\" >95<br>(4.0%)</td>\n",
       "    </tr>\n",
       "    <tr>\n",
       "      <td id=\"T_da912_row6_col0\" class=\"data row6 col0\" >7</td>\n",
       "      <td id=\"T_da912_row6_col1\" class=\"data row6 col1\" ><strong>Secchi Depth (m)</strong><br>[float64]</td>\n",
       "      <td id=\"T_da912_row6_col2\" class=\"data row6 col2\" >Mean (sd) : 0.5 (0.5)<br>min < med < max:<br>0.0 < 0.4 < 9.0<br>IQR (CV) : 0.4 (1.1)</td>\n",
       "      <td id=\"T_da912_row6_col3\" class=\"data row6 col3\" >77 distinct values</td>\n",
       "      <td id=\"T_da912_row6_col4\" class=\"data row6 col4\" ><img src = \"data:image/png;base64, iVBORw0KGgoAAAANSUhEUgAAAKoAAABGCAYAAABc8A97AAAAOXRFWHRTb2Z0d2FyZQBNYXRwbG90bGliIHZlcnNpb24zLjUuMiwgaHR0cHM6Ly9tYXRwbG90bGliLm9yZy8qNh9FAAAACXBIWXMAAA9hAAAPYQGoP6dpAAAB2klEQVR4nO3ZQWrCQBSH8Tc1yqiQIELceYQuXHqIHtZD5DBCkAlG00iY7roprSYq7Z9+v3XeYxYfCaMuxmjAX/fy2wcAbpFce8A5NzWzycD9bYzxPHAW+PRjqM656XK5fEvTdDFkeVVVB+fcjlhxr2tv1EmapovtdnvOsqzpsziE4IuiWJRlOTEzQsVdrn76zcyyLGvyPD8N2D8dMAN8wWUKEggVEggVEggVEggVEggVEggVEggVEggVEggVEggVEggVEggVEggVEggVEggVEggVEggVEggVEggVEggVEggVEggVEggVEggVEggVEggVEggVEggVEggVEggVEggVEggVEggVEggVEggVEggVEggVEggVEggVEggVEggVEggVEggVEggVEggVEggVEggVEggVEggVEggVEggVEggVEggVEpJnLu+6bmxmqXNu6Io2xnh+4JEg6mmh1nU9vlwur+v1ejQajZohO6qqOjjndsSKp4Xatm3ivZ9tNptmtVod+s6HEHxRFIuyLCdmRqj/3FM//WZm8/m8yfP8NHB8+tDDQBaXKUggVEggVEggVEggVEi46dYfQvB9Fx+PR29mVte13+/3s77zIQTfdV1i9/1hAB3vMcZvf2//AO+nX4nay4MUAAAAAElFTkSuQmCC\"></img></td>\n",
       "      <td id=\"T_da912_row6_col5\" class=\"data row6 col5\" >73<br>(3.1%)</td>\n",
       "    </tr>\n",
       "    <tr>\n",
       "      <td id=\"T_da912_row7_col0\" class=\"data row7 col0\" >8</td>\n",
       "      <td id=\"T_da912_row7_col1\" class=\"data row7 col1\" ><strong>Water Depth (m)</strong><br>[float64]</td>\n",
       "      <td id=\"T_da912_row7_col2\" class=\"data row7 col2\" >Mean (sd) : 0.8 (0.6)<br>min < med < max:<br>0.0 < 0.7 < 12.0<br>IQR (CV) : 0.5 (1.2)</td>\n",
       "      <td id=\"T_da912_row7_col3\" class=\"data row7 col3\" >114 distinct values</td>\n",
       "      <td id=\"T_da912_row7_col4\" class=\"data row7 col4\" ><img src = \"data:image/png;base64, iVBORw0KGgoAAAANSUhEUgAAAKoAAABGCAYAAABc8A97AAAAOXRFWHRTb2Z0d2FyZQBNYXRwbG90bGliIHZlcnNpb24zLjUuMiwgaHR0cHM6Ly9tYXRwbG90bGliLm9yZy8qNh9FAAAACXBIWXMAAA9hAAAPYQGoP6dpAAAB20lEQVR4nO3aQWrCQBSH8Tc1yqiQIELceYQuXHqIHtZD5DBCkAlG00iY7roprSYq7Z9+v3XeYxYfhiS6GKMBf93Lbx8AuEVy7QLn3NTMJgP3tzHG88BZ4NOPoTrnpsvl8i1N08WQ5VVVHZxzO2LFva79ok7SNF1st9tzlmVNn8UhBF8UxaIsy4mZESrucvXWb2aWZVmT5/lpwP7pgBngCx6mIIFQIYFQIYFQIYFQIYFQIYFQIYFQIYFQIYFQIYFQIYFQIYFQIYFQIYFQIYFQIYFQIYFQIYFQIYFQIYFQIYFQIYFQIYFQIYFQIYFQIYFQIYFQIYFQIYFQIYFQIYFQIYFQIYFQIYFQIYFQIYFQIYFQIYFQIYFQIYFQIYFQIYFQIYFQIYFQIYFQIYFQIYFQIYFQIYFQIYFQISF55vKu68Zmljrnhq5oY4znBx4Jop4Wal3X48vl8rper0ej0agZsqOqqoNzbkeseFqobdsm3vvZZrNpVqvVoe98CMEXRbEoy3JiZoT6zz311m9mNp/PmzzPTwPHpw89DGTxMAUJhAoJhAoJhAoJhAoJhAoJhAoJhAoJN73wDyH4vouPx6M3M6vr2u/3+1nf+RCC77ousfv+KwAd7zHGbz+1fwBVy1+J/kWOsQAAAABJRU5ErkJggg==\"></img></td>\n",
       "      <td id=\"T_da912_row7_col5\" class=\"data row7 col5\" >71<br>(3.0%)</td>\n",
       "    </tr>\n",
       "    <tr>\n",
       "      <td id=\"T_da912_row8_col0\" class=\"data row8 col0\" >9</td>\n",
       "      <td id=\"T_da912_row8_col1\" class=\"data row8 col1\" ><strong>Water Temp (?C)</strong><br>[float64]</td>\n",
       "      <td id=\"T_da912_row8_col2\" class=\"data row8 col2\" >Mean (sd) : 18.1 (8.3)<br>min < med < max:<br>0.0 < 19.0 < 74.0<br>IQR (CV) : 14.0 (2.2)</td>\n",
       "      <td id=\"T_da912_row8_col3\" class=\"data row8 col3\" >114 distinct values</td>\n",
       "      <td id=\"T_da912_row8_col4\" class=\"data row8 col4\" ><img src = \"data:image/png;base64, iVBORw0KGgoAAAANSUhEUgAAAKoAAABGCAYAAABc8A97AAAAOXRFWHRTb2Z0d2FyZQBNYXRwbG90bGliIHZlcnNpb24zLjUuMiwgaHR0cHM6Ly9tYXRwbG90bGliLm9yZy8qNh9FAAAACXBIWXMAAA9hAAAPYQGoP6dpAAACWklEQVR4nO3dTaraUBiH8ffUD6JCglh05gYKHTh0EV1sl1DBFbgDZ0KQI6Y3NcZ00s5u7zVf1/zt85ufmMFDIPHwHlcUhQFd9+nRNwDco//oG2iLc25kZsMal7gURfHS1P2gnqcM1Tk3ms1m38IwnFa9xul0OjrnvhNrNzxlqGY2DMNwul6vX6IoSssu9t4H2+12Gsfx0MwItQOeNVQzM4uiKJ3P5z8rLh81ejOohZcpSCBUSCBUSCBUSCBUSCBUSCBUSCBUSCBUSGj1nyk2hqAprYXKxhA0qc0nau2NIZvNZh7H8Wfn3Knk8vB2uw3K/ia6q/VNKVU3hiRJMsiy7Otyuez1er1SoWdZFuR5/iVN0x9mVnVTCjqks7unLpdLPwiC8Wq1SheLxbHM2v1+P93tduPr9dpr6/7wsTob6l+TyaT0E/l4PLJF78nweQoSCBUSCBUSCBUSCBUSCBUSCBUSCBUSCBUSCBUSCBUSCBUSCBUSCBUSCBUSCBUSCBUSCBUSCBUSCBUSCBUSCBUSCBUSCBUS3h1AUWMiH/Of0Jg3Q60zkY/5T2jSe0/UyhP5mP+EJt01e6rKRD7mP6FJvExBAqFCAqFCAqFCAqFCAqFCAqFCAqFCAqFCAqFCAqFCAqFCQucPRHuUPM8HZhY656os51TshhHqK+qcw2rGqdhtINRX1DmH1XsfbLfbaRzHQzMj1IYQ6huqnMP6B3txG8bLFCQQKiQQKiQQKiTc9TLlvQ/KXvh8PgdmZkmSBIfDYfyR6x/52977IM/zvlX/Bvu/+lUUxT8/Bf4GvOLdfk29EHMAAAAASUVORK5CYII=\"></img></td>\n",
       "      <td id=\"T_da912_row8_col5\" class=\"data row8 col5\" >121<br>(5.1%)</td>\n",
       "    </tr>\n",
       "    <tr>\n",
       "      <td id=\"T_da912_row9_col0\" class=\"data row9 col0\" >10</td>\n",
       "      <td id=\"T_da912_row9_col1\" class=\"data row9 col1\" ><strong>Air Temp-Celsius</strong><br>[float64]</td>\n",
       "      <td id=\"T_da912_row9_col2\" class=\"data row9 col2\" >Mean (sd) : 16.4 (11.8)<br>min < med < max:<br>0.0 < 15.0 < 74.0<br>IQR (CV) : 12.7 (1.4)</td>\n",
       "      <td id=\"T_da912_row9_col3\" class=\"data row9 col3\" >45 distinct values</td>\n",
       "      <td id=\"T_da912_row9_col4\" class=\"data row9 col4\" ><img src = \"data:image/png;base64, iVBORw0KGgoAAAANSUhEUgAAAKoAAABGCAYAAABc8A97AAAAOXRFWHRTb2Z0d2FyZQBNYXRwbG90bGliIHZlcnNpb24zLjUuMiwgaHR0cHM6Ly9tYXRwbG90bGliLm9yZy8qNh9FAAAACXBIWXMAAA9hAAAPYQGoP6dpAAACpklEQVR4nO3dvW7aUBiH8ffwkZoPGVCasLF0YKjUIWMuohfbS8jAmiUrQ8WGIAiEC8Wx6dJuacDnQOM/fX77sT08cjiRzmu33+8NKLvKez8AcIzaOS/unGuY2VXAJXb7/X5zqueBrrOF6pxrXF9ff43juOd7jdVqtXDOfSNWnPONehXHce/+/n7T6XS2RRcvl8toNBr15vP5lZkR6n/urH/6zcw6nc729vb2h+fyxkkfBrLYTEHC2d+oIbIsq5tZ7JzzWc5G7IKUNtQkSeppmn4ZDAbVarVa+DcuG7HLUtpQd7tdLYqi5t3d3bbf7y+KrGUjdnlKG+ofrVbLdzPGRuyCsJmCBEKFBEKFBEKFBEKFBEKFBEKFBEKFBEKFBEKFBEKFBEKFBEKFBEKFBEKFBEKFBEKFBEKFBEKFBEKFBEKFBEKFBEKFBEKFBEKFBEKFBEKFBEKFhNIPSfMVOFvVjPmqpXKRoYbOVjVjvmrZHAw14BM8cZ7ndY91wUJmq5oxX7WM3gw15BM8aZpGWZZ93m63D2bm+7GJIAGzVc2Yr1oqh96o3p/gmUwmvaenp+bLy0s14PkAMzvyN6rPJ3gWiwVvJJwM/56CBEKFBEKFBEKFBEKFBEKFBEKFBEKFBEKFBEKFBEKFBEKFBEKFBEKFBEKFBEKFBEKFBEKFBEKFhIs814/3EXC03uzAwA9CxUmEHK03Ozzwg1BxKt5H648Z+EGofxE4u6piZrnnraVnXvkcrf/tzeP1hPqKkNlVWZbVkyT51G63x5VKJS16b2Zeve6oUJfLZVT0wuv1OjIzS5Ikmk6nzX+5PvTez8/P7SiKmsPh0HW73Z9F1s5ms2g8Ht8Mh8Pv3W53XWTtZrP58Pj4eDOfzz8651bFnvrdxXme13xaOWbNL5lKChoZ8bdEAAAAAElFTkSuQmCC\"></img></td>\n",
       "      <td id=\"T_da912_row9_col5\" class=\"data row9 col5\" >2,286<br>(96.4%)</td>\n",
       "    </tr>\n",
       "    <tr>\n",
       "      <td id=\"T_da912_row10_col0\" class=\"data row10 col0\" >11</td>\n",
       "      <td id=\"T_da912_row10_col1\" class=\"data row10 col1\" ><strong>Air Temp (?F)</strong><br>[float64]</td>\n",
       "      <td id=\"T_da912_row10_col2\" class=\"data row10 col2\" >Mean (sd) : 62.1 (15.5)<br>min < med < max:<br>10.5 < 63.0 < 92.3<br>IQR (CV) : 26.0 (4.0)</td>\n",
       "      <td id=\"T_da912_row10_col3\" class=\"data row10 col3\" >225 distinct values</td>\n",
       "      <td id=\"T_da912_row10_col4\" class=\"data row10 col4\" ><img src = \"data:image/png;base64, iVBORw0KGgoAAAANSUhEUgAAAKoAAABGCAYAAABc8A97AAAAOXRFWHRTb2Z0d2FyZQBNYXRwbG90bGliIHZlcnNpb24zLjUuMiwgaHR0cHM6Ly9tYXRwbG90bGliLm9yZy8qNh9FAAAACXBIWXMAAA9hAAAPYQGoP6dpAAACvElEQVR4nO3dQW7aQBSA4TclRA4gW4gIdlygUhcsfYgetkcoEouuuQE7JAsZ4cbCGHdRRcqCQj3jCX7m/9YxWMov4onfYFNVlQBt9+XeJwD8j6d7nwDawxjzIiLPDi9xrKrqranz+YhQISJ/I51MJt/DMBzbvsZ+v98ZY374iJVQ8e45DMNxHMdvURTldQ9O0zRYrVbjJEmeRYRQ4VcURfl0Ov1tefhLoyfzAYspqECoUIE//R3jsHIPz+dzv+nzaQqhdojLyr0oiqAsy695nv8UEdtrVG8ItVusV+6bzWa8Xq8Hp9Op5+vkXBBqB9ms3He7nbcVexNYTEEFQoUKhAoVCBUqECpUIFSoQKhQgf+j/oPjELG3AeJHRagXuA4R+xwgflSEepn1rUjfA8SPilCvsB0iLssyFJHQGGPztlw2XECoDcuyrF8Uxbf5fN7r9Xq1t3Rw2XAZoTbseDw+BUEwWCwW+Ww229U5Nk3TYLlcTpMkeTXG7C3evtUzpS4I1ZPhcFj7ssH107jtM6UuCLVFXD6NRdo/U+qCUFvI5tNYpP0zpS64MwUVCBUqECpUIFSoQKhQgVChAqFCBUKFCoQKFQgVKhAqVCBUqECoUIFQoUJnx/wctzt3dlJeq06G6rrducuT8lp1MlRxfGZSlyfltepqqCJiv925y5PyWrGYggqEChUIFSoQKlQgVKhAqFCBUKECoUIFQoUKhAoVCBUqECpUaPVQisNMKfOkd1CWZV88PbugtaG6zJQyT/r5fD+7oLWhisNMKfOkn8/12QW3HnnU5lBFxG6mlHnS+7H9tmwRufo7YzEFFQgVKhAqVCBUqOB1McXeejTFW6jsrUeTbobqcndoNBpN4zjes7cerq6G2sTdoaIofolI7VDfZVkWbLfbQZ1jDodDYHus6/H3Olbze6dpGtz6mT96D38Exjl1SgAAAABJRU5ErkJggg==\"></img></td>\n",
       "      <td id=\"T_da912_row10_col5\" class=\"data row10 col5\" >71<br>(3.0%)</td>\n",
       "    </tr>\n",
       "    <tr>\n",
       "      <td id=\"T_da912_row11_col0\" class=\"data row11 col0\" >12</td>\n",
       "      <td id=\"T_da912_row11_col1\" class=\"data row11 col1\" ><strong>Time (24:00)</strong><br>[object]</td>\n",
       "      <td id=\"T_da912_row11_col2\" class=\"data row11 col2\" >1. 0:00<br>2. nan<br>3. 14:24<br>4. 19:12<br>5. 4:48<br>6. 9:36<br>7. 10:15<br>8. 10:45<br>9. 21:36<br>10. 12:00<br>11. other</td>\n",
       "      <td id=\"T_da912_row11_col3\" class=\"data row11 col3\" >1,440 (60.7%)<br>63 (2.7%)<br>52 (2.2%)<br>47 (2.0%)<br>46 (1.9%)<br>44 (1.9%)<br>41 (1.7%)<br>39 (1.6%)<br>37 (1.6%)<br>36 (1.5%)<br>526 (22.2%)</td>\n",
       "      <td id=\"T_da912_row11_col4\" class=\"data row11 col4\" ><img src = \"data:image/png;base64, iVBORw0KGgoAAAANSUhEUgAAAJsAAAD+CAYAAAAtWHdlAAAAOXRFWHRTb2Z0d2FyZQBNYXRwbG90bGliIHZlcnNpb24zLjUuMiwgaHR0cHM6Ly9tYXRwbG90bGliLm9yZy8qNh9FAAAACXBIWXMAAA9hAAAPYQGoP6dpAAAEIklEQVR4nO3dQWobWQBF0S8h3NFEQhi8DC9Ai+jF9iJqAd6HMa5B5M5EPUjaxEmmugWuc2YZ+RNuSqj4L95cr9cBhe3SB2A9xEZGbGTERkZsZMRGRmxkxEZGbGQ2Y4z9GONu6YOs0Lfr9XpZ+hCl3f39/d+Hw+G09EHWZp7nl81m88+agtsdDofT+Xy+HI/Ht6UPsxavr69fpmk6PT8/340x1hPbGGMcj8e3h4eHr0sfZmX2Sx+g5gsCGbGRERsZsZERGxmxkREbGbGRERsZsZERGxmxkREbGbGR2Y3x/X7V0gdZk7X+fe/meX6Zpuk0Vni/aknzPL+MMb4tfY6SDcJyVrdB2Pgvs6j86cm2un9xNH5bV61x9UPjw7pqrasfGn9aV/lWyk14qUtGbGTERkZsZMRGRmxkxEZGbGTERkZsZMRGRmxkxEbmw+BlrUMMGr8NXtY4xKDhWjgZgxcyvz7ZPNW4mQ+DF2MXbmn7/+DlfD5ffkRnsMxNvA9efvzZ2IWb8VKXjNjIiI2M2MiIjYzYyIiNjNjIiI2M2MiIjYzYyIiNjN/wQubnwYuxCzflWjgZgxcyviCQ8TFKxrqKjHUVGesqMr4gkBEbGbGRERsZsZERGxmxkREbGbGRERsZsZERGxmxkbGuImNdRca1cDLWVWQ82cgYvJAxeCFj8ELGS10yYiMjNjJiIyM2MmIjIzYyYiMjNjJiIyM2MmIjIzYyBi9kDF7IuBZOxuCFjCcbGYMXMgYvZAxeyHipS0ZsZMRGRmxkxEZGbGTERkZsZMRGRmxkxEZGbGTERkZsZKyryFhXkbFBIGNdRcaTjYx1FRnrKjLWVWS81CUjNjJiIyM2MmIjIzYyYiMjNjJiIyM2MmIjIzYyYiNj8ELG4IWMa+FkDF7IeLKRMXghY/BCxuCFjJe6ZMRGRmxkxEZGbGTERkZsZMRGRmxkxEZGbGTERkZsZAxeyBi8kHEtnIzBCxlfEMj8/DHqI5Sbel9XWVZxa9vD4XB6fHwcllXc2naMMfb7/b9LH4TPzxcEMmIjIzYyYiMjNjJiIyM2MmIjIzYyYiMjNjJiIyM2MtsxxrhcLn8tfRA+v+08zy9PT0+WVdyca+FkrKvIeLKRMXghY/BCxuCFjJe6ZMRGRmxkxEZGbGTERkZsZMRGRmxkxEZGbGTERkZsZAxeyBi8kHEtnIzBC5lff1HakjxZP7n3wcvSBzG4+fx2h8PhdD6fL8fj8W2pQ7y+vn6Zpun0/Px8N8YQ2ye1G2OM4/H49vDw8HXhs+wX/vncmJe6ZMRGRmxkxEZGbGTERkZsZMRGRmxkxEZGbGTERkZsZHZjfL/is+Qhlv75NHbzPL9M03QaC1/xMbj5/FwLJ2PwQsYXBDJiIyM2MmIjIzYyYiMjNjJiIyM2Mv8BtEHmY++eD+cAAAAASUVORK5CYII=\"></img></td>\n",
       "      <td id=\"T_da912_row11_col5\" class=\"data row11 col5\" >63<br>(2.7%)</td>\n",
       "    </tr>\n",
       "    <tr>\n",
       "      <td id=\"T_da912_row12_col0\" class=\"data row12 col0\" >13</td>\n",
       "      <td id=\"T_da912_row12_col1\" class=\"data row12 col1\" ><strong>Field_Tech</strong><br>[object]</td>\n",
       "      <td id=\"T_da912_row12_col2\" class=\"data row12 col2\" >1. Not Recorded<br>2. S. Poe<br>3. Sue Poe<br>4. Feldman<br>5. Susan Poe<br>6. nan<br>7. J Phillips, Mary Feldman<br>8. Strader, Pease, Feldman<br>9. Pease, Strader<br>10. John Phillips<br>11. other</td>\n",
       "      <td id=\"T_da912_row12_col3\" class=\"data row12 col3\" >1,225 (51.7%)<br>358 (15.1%)<br>342 (14.4%)<br>172 (7.3%)<br>86 (3.6%)<br>39 (1.6%)<br>37 (1.6%)<br>35 (1.5%)<br>31 (1.3%)<br>17 (0.7%)<br>29 (1.2%)</td>\n",
       "      <td id=\"T_da912_row12_col4\" class=\"data row12 col4\" ><img src = \"data:image/png;base64, iVBORw0KGgoAAAANSUhEUgAAAJsAAAD+CAYAAAAtWHdlAAAAOXRFWHRTb2Z0d2FyZQBNYXRwbG90bGliIHZlcnNpb24zLjUuMiwgaHR0cHM6Ly9tYXRwbG90bGliLm9yZy8qNh9FAAAACXBIWXMAAA9hAAAPYQGoP6dpAAAEN0lEQVR4nO3dTU4bWQBG0WfLSjcTI2SJZbAAFpHF9iJYAPtACA/a6UzoQRMCiCT8vWs5fc4ss1J086wq1Zda3N7eDigs930B/H+IjYzYyIiNjNjIiI2M2MiIjYzYyCzGGEdjjE/7vpAD9vX29na374s4BKvNZvN5vV6f7PtCDtV2u71eLBZ/Ce7XVuv1+uT8/Hx3fHz8Zd8Xc2hubm7+vLi4OLm6uvo0xhDbL6zGGOP4+PjL6enp3/u+mAN1tO8LOBRuEMiIjYzYyIiNjNjIiI2M2MiIjYzYyIiNjNjIiI2M2MiIjcxqjP/ey9r3hRwif2+vs9put9cXFxcnw3tZb7Ldbq/HGF/3fR2HwAbh/WwQXmjhv8yiMvtk86+ee1PXVZZHPDRtXWV5xFOz11XucLnnoS4ZsZERGxmxkREbGbGRERsZsZERGxmxkREbGbGRERuZaYMXYxCemjp4MQbhIa+FkzF4ITPzZHOq8ci0wYuxC09NGbwYu/CcmYMXYxce8VCXjNjIiI2M2MiIjYzYyIiNjNjIiI2M2MiIjYzYyIiNzJTBi7ELz5k2eDF24SmvhZMxeCHjBoHMa39G/TTyZq9aV1lM8R4vXldZTPFer11XWUzxZm4QyIiNjNjIiI2M2MiIjYzYyIiNjNjIiI2M2MiIjYzYyLx4XWUxxXu9al1lMcV7eC2cjHUVmZ+dbE4xPtQPBy/GLXy0Zwcvxi3M8LPBi3ELH8pDXTJiIyM2MmIjIzYyYiMjNjJiIyM2MmIjIzYyYiMjNjLPDl6MW5jhh4MX4xY+mtfCyRi8kHl6sjnNmObR4MXIhZmW3wYv5+fnu7voZnwOEr4PXu7+bOTCNB7qkhEbGbGRERsZsZERGxmxkREbGbGRERsZsZERGxmxkREbmRd/Tgje6+G6yqKKqWwQyFhXkXl4sjnVmOp+XWVZxWzL9Xp9cnZ2NiyrmG05xhhHR0f/7PtC+P15qEtGbGTERkZsZMRGRmxkxEZGbGTERkZsZMRGRmxkxEZmOcYYu93uj31fCL+/5Xa7vb68vDR2YTqvhZMxeCHjZCNj8ELG4IWMwQsZD3XJiI2M2MiIjYzYyIiNjNjIiI2M2MiIjYzYyIiNjNjIGLyQMXgh47VwMgYvZNwgkPEzSsa6iox1FRnrKjJuEMiIjYzYyIiNjNjIiI2M2MiIjYzYyIiNjNjIiI2M2MhYV5GxriLjtXAy1lVkvp1sw6nGbKvNZvN5jDGMXZhtuV6vT4xdKHjORkZsZMRGRmxkxEZGbGTERkZsZMRGRmxkxEZGbGTERkZsZMRGZnU3dBnD2IXJvBZOxuCFjCkfGV94IeMLL2R84YWM52xkxEZGbGTERkZsZMRGRmxkxEZGbGTERkZsZMRGRmxkfOGFjC+8kPFaOBmDFzJuEMiIjYzYyIiNjNjIiI2M2MiIjYzYyPwLa+XmKl0xqukAAAAASUVORK5CYII=\"></img></td>\n",
       "      <td id=\"T_da912_row12_col5\" class=\"data row12 col5\" >39<br>(1.6%)</td>\n",
       "    </tr>\n",
       "    <tr>\n",
       "      <td id=\"T_da912_row13_col0\" class=\"data row13 col0\" >14</td>\n",
       "      <td id=\"T_da912_row13_col1\" class=\"data row13 col1\" ><strong>DateVerified</strong><br>[object]</td>\n",
       "      <td id=\"T_da912_row13_col2\" class=\"data row13 col2\" >1. nan<br>2. 10/30/2019<br>3. 11/12/2019<br>4. 4/11/2017<br>5. 8/7/2017<br>6. 1/4/2016<br>7. 3/27/2014<br>8. 11/5/2019<br>9. 5/8/2015<br>10. 10/29/2019<br>11. other</td>\n",
       "      <td id=\"T_da912_row13_col3\" class=\"data row13 col3\" >1,918 (80.9%)<br>60 (2.5%)<br>49 (2.1%)<br>40 (1.7%)<br>30 (1.3%)<br>26 (1.1%)<br>24 (1.0%)<br>21 (0.9%)<br>16 (0.7%)<br>15 (0.6%)<br>172 (7.3%)</td>\n",
       "      <td id=\"T_da912_row13_col4\" class=\"data row13 col4\" ><img src = \"data:image/png;base64, iVBORw0KGgoAAAANSUhEUgAAAJsAAAD+CAYAAAAtWHdlAAAAOXRFWHRTb2Z0d2FyZQBNYXRwbG90bGliIHZlcnNpb24zLjUuMiwgaHR0cHM6Ly9tYXRwbG90bGliLm9yZy8qNh9FAAAACXBIWXMAAA9hAAAPYQGoP6dpAAAEP0lEQVR4nO3dQWrbaACG4T/GZJqNjDHkGD2AD9HDziF8gNwjhGhRZ7rJLJqUdlraTEGvwH2eXcEgQV+UWPxfe/X8/DygsFn7BvhziI2M2MiIjYzYyIiNjNjIiI2M2MhcjTFuxhjXa98IqU/Pz8/n+qLbw+HwYZqmfX1h1jPP88PV1dXfdXDbaZr2x+PxvNvtnsoLs47Hx8d3p9Npf39/fz3GaGMbY4zdbvd0e3v7sbwwq7pZ46K+IJARGxmxkREbGbGRERsZsZERGxmxkREbGbGRERsZsZERG5ntGJ/POK19IzTW/LvezvP8cDqd9mOlM0705nl+GGN8qq9rg/BnWmWDcOWfzKLyoyfbKtVz+b5bV621vOHyfbOuWnN5w+X70brKt1IW4aUuGbGRERsZsZERGxmxkREbGbGRERsZsZERGxmxkREbmW8GL4YvLOm7wctaYwgun2PhZAxeyPz3yeapxmK+GbwYu7Ckzevg5Xg8nl+iM1hmEV8GLy9/NnZhMV7qkhEbGbGRERsZsZERGxmxkREbGbGRERsZsZERGxmxkfE/vJD5evBi7MKiHAsnY/BCxhcEMn6MkrGuImNdRca6iowvCGTERkZsZMRGRmxkxEZGbGTERkZsZMRGRmxkxEZGbGSsq8hYV5FxLJyMdRWZr59snmos6svgxdiFpW2madq/f/9+GLuwtM0YY9zc3Pyz9o1w+bzUJSM2MmIjIzYyYiMjNjJiIyM2MmIjIzYyYiMjNjJiI7MZY4zz+fzX2jfC5dvM8/xwd3dn7MLiHAsnY/BCxpONjMELGYMXMgYvZLzUJSM2MmIjIzYyYiMjNjJiIyM2MmIjIzYyYiMjNjJiIyM2MtZVZKyryNggkLGuIuPJRsa6iox1FRnrKjJe6pIRGxmxkREbGbGRERsZsZERGxmxkREbGbGRERsZsZExeCFj8ELGsXAyBi9kXp9sw1ONpW0Ph8OHMcYwdmFpm2ma9sYuFLxnIyM2MmIjIzYyYiMjNjJiIyM2MmIjIzYyYiMjNjJiIyM2MmIjs30Zuoxh7MLCHAsnY/BCxu9sZPwYJWNdRca6iozf2ciIjYzYyIiNjNjIiI2M2MiIjYzYyIiNjNjIiI2M2MiIjYzYyFhXkXEsnIx1FRlPNjIGL2QMXsh49UFGbGTERkZsZMRGRmxkxEZGbGTERkZsZMRGRmxkxEZGbGTERsbghYxj4WQMXsi8PtneeiT8kycgv2t7OBw+vGwQfmme5wfDGH7Xdpqm/fF4PO92u6efffDx8fHd6XTa39/fX48xxMb/th1jjN1u93R7e/vxDZ+/Wfh+uGDes5ERGxmxkREbGbGRERsZsZERGxmxkREbGbGRERsZsZHZjvH5+NCvPviWz8DPbOd5fjidTvvxhuNDL+MYwxh+i2PhZAxeyPiCQEZsZMRGRmxkxEZGbGTERkZsZMRG5l8uMqkqMxqlxgAAAABJRU5ErkJggg==\"></img></td>\n",
       "      <td id=\"T_da912_row13_col5\" class=\"data row13 col5\" >1,918<br>(80.9%)</td>\n",
       "    </tr>\n",
       "    <tr>\n",
       "      <td id=\"T_da912_row14_col0\" class=\"data row14 col0\" >15</td>\n",
       "      <td id=\"T_da912_row14_col1\" class=\"data row14 col1\" ><strong>WhoVerified</strong><br>[object]</td>\n",
       "      <td id=\"T_da912_row14_col2\" class=\"data row14 col2\" >1. nan<br>2. Christine Folks<br>3. Kayla Braasch<br>4. Carly Sibilia<br>5. Rebecca Walawender<br>6. Erin Bailey<br>7. Karen Beatty<br>8. Amy Keiler<br>9. Karen Callaway<br>10. K Beatty<br>11. other</td>\n",
       "      <td id=\"T_da912_row14_col3\" class=\"data row14 col3\" >1,918 (80.9%)<br>171 (7.2%)<br>62 (2.6%)<br>53 (2.2%)<br>51 (2.2%)<br>40 (1.7%)<br>28 (1.2%)<br>23 (1.0%)<br>12 (0.5%)<br>5 (0.2%)<br>8 (0.3%)</td>\n",
       "      <td id=\"T_da912_row14_col4\" class=\"data row14 col4\" ><img src = \"data:image/png;base64, iVBORw0KGgoAAAANSUhEUgAAAJsAAAD+CAYAAAAtWHdlAAAAOXRFWHRTb2Z0d2FyZQBNYXRwbG90bGliIHZlcnNpb24zLjUuMiwgaHR0cHM6Ly9tYXRwbG90bGliLm9yZy8qNh9FAAAACXBIWXMAAA9hAAAPYQGoP6dpAAAEHklEQVR4nO3dMW7bZgCG4Z+CkMaLBEGAj9BuPoAOkcP2EDqAx97BMKyhSrKoQ50gbjLYDfgSUJ5ny0QCeUNKBL9oulwuAwqrpU+AX4fYyIiNjNjIiI2M2MiIjYzYyIiNzDTGuBljvFv6REh9vlwu5/qg6/1+/2Gz2ezqA7Oc0+n0OE3Tn3Vw681mszscDuftdvuxPDDLeHp6en88HncPDw/vxhhtbGOMsd1uP97e3v5dHphF3SxxUF8QyIiNjNjIiI2M2MiIjYzYyIiNjNjIiI2M2MiIjYzYyIiNzHqMf99xWvpEaCz5d70+nU6Px+NxNxZ6x4ne6XR6HGN8ro9rg/BrWmSDMPkvs6i89cq2yL8IrsOb1lVLrXK4Dq9eVy25yuE6vHVd5Rsr/5uHumTERkZsZMRGRmxkxEZGbGTERkZsZMRGRmxkxEZGbGRePXgxiuFnvWnwstRQguvgtXAyBi9kfnRlc/ViFt8NXoxamMuLwYtRC3P60eDFqIVZeKhLRmxkxEZGbGTERkZsZMRGRmxkxEZGbGTERkZsZMRG5sXgxaiFOX03eDFqYS5eCydj8ELGFwQy/72NuoUymxfrKssq5rT6sq46HA7n5+j8HCSz+Lquev6zZRWz8QWBjNjIiI2M2MiIjYzYyIiNjNjIiI2M2MiIjYzYyIiNzKt/Tgh+1rfrKssqZuW1cDLWVWRc2cgYvJAxeCFj8ELGQ10yYiMjNjJiIyM2MmIjIzYyYiMjNjJiIyM2MmIjIzYyBi9kDF7IeC2cjMELGVc2MgYvZAxeyBi8kPFQl4zYyIiNjNjIiI2M2MiIjYzYyIiNjNjIiI2M2MiIjYzYyFhXkbGuImODQMa6isy3VzZXNWb1dV1lWcXcVpvNZnd3dzcsq5jbaowxbm5uPi19Ilw/D3XJiI2M2MiIjYzYyIiNjNjIiI2M2MiIjYzYyIiNjNjIrMYY43w+/7b0iXD9VqfT6fH+/t7Yhdl5LZyMwQsZVzYyBi9kDF7IGLyQ8VCXjNjIiI2M2MiIjYzYyIiNjNjIiI2M2MiIjYzYyIiNjMELGYMXMl4LJ2PwQsYXBDJfbqPDLZS5rff7/YcxxrCsYm6rzWazs6yi4DMbGbGRERsZsZERGxmxkREbGbGRERsZsZERGxmxkREbGbGRERuZ9fOqagzLKmbmtXAy1lVkfGYjs5qm6Y9pmt4vfSJcv9UY4/cxhv/rg9m5jZIRGxmxkREbGbGRERsZsZERGxmxkREbGbGRERsZsZERGxmxkVmNMf4aY3xa+kS4fjYIZNxGyZjykfELL2T8wgsZn9nIiI2M2MiIjYzYyIiNjNjIiI2M2MiIjYzYyIiNjNjIiI2M2Mj4hRcyXgsnY11Fxmc2MmIjIzYyYiMjNjJiIyM2MmIjIzYy/wALUZu0flPPQQAAAABJRU5ErkJggg==\"></img></td>\n",
       "      <td id=\"T_da912_row14_col5\" class=\"data row14 col5\" >1,918<br>(80.9%)</td>\n",
       "    </tr>\n",
       "    <tr>\n",
       "      <td id=\"T_da912_row15_col0\" class=\"data row15 col0\" >16</td>\n",
       "      <td id=\"T_da912_row15_col1\" class=\"data row15 col1\" ><strong>AirTemp (C)</strong><br>[float64]</td>\n",
       "      <td id=\"T_da912_row15_col2\" class=\"data row15 col2\" >Mean (sd) : 15.7 (10.3)<br>min < med < max:<br>-17.8 < 16.7 < 33.5<br>IQR (CV) : 15.0 (1.5)</td>\n",
       "      <td id=\"T_da912_row15_col3\" class=\"data row15 col3\" >226 distinct values</td>\n",
       "      <td id=\"T_da912_row15_col4\" class=\"data row15 col4\" ><img src = \"data:image/png;base64, iVBORw0KGgoAAAANSUhEUgAAAKoAAABGCAYAAABc8A97AAAAOXRFWHRTb2Z0d2FyZQBNYXRwbG90bGliIHZlcnNpb24zLjUuMiwgaHR0cHM6Ly9tYXRwbG90bGliLm9yZy8qNh9FAAAACXBIWXMAAA9hAAAPYQGoP6dpAAACwUlEQVR4nO3dTW7aQBiA4W9KAAeoEUKCHReo1AVLDtHD5ghZsOg6N2CDkBCyBcXCGHfRIrEIP56xxXzO+2yjIZb8KrHH48HkeS6A7749+wCAR7w8+wDgD2PMq4i0HD7ikOf5vqzjuUSoEJF/kQ6Hw19hGA5sPyOO440x5q2KWAkVZ60wDAez2Wzf7/eTooOjKArm8/lgvV63RIRQUa1+v5+MRqM/lsNfSz2YC9xMQQVChQqEChUIFSoQKlQgVKhAqFCBUKECoUIFQoUKPEKtGYcVUOHpdGqWfTxlIdQacVkBlaZpkGXZjyRJ3kXE9ll/ZQi1XqxXQC0Wi8HHx0fneDw2qjo4F4RaQzYroDabTWUrn8rAzRRUIFSoQKhQgWtUzzi+YOf1FJMLQvWI6wt2vk8xuSDUCrhMuvd6vdFsNottXrDzfYrJBaGWrIxJ93a7/W7zgp3vU0wuCLV8tZ10fyZCrUgdJ92fiekpqECoUIF//VfUdbmcVoT6iTovl9OKUD/HnbtnCPUG7tz9wc0UVCBUqECoUIFQoQKhQgVChQqEChUIFSoQKlQgVKhAqFCBUKECoUIFQoUKhAoVCBUqECpUIFSoQKhQgVChAqFCBUKFCrwujdJkWdYUkdAYYzP8kOf5/toPCRWl2O12zTRNf04mk0aj0Si8CXEcxxtjzNu1WAkVpTgcDi9BEHSm02kyHo83RcZGURTM5/PBer1uicjXCpUvbXiObrdbeHeZ/27uMHM3VMcTfvO6oyp8aUP93AzV9YTfu+6okPUmZyJsdOaje39RrU/4I9cdVbPZ5EyEjc589NA1qu0JlzvXHcCjmPCHCl7f9bM9Oc68DZXtyXGp0lAdH6lZf90id+3181CoURQFRT94uVx+d3mkdv6rmKbpbxEpPF5EZLfbBavVqlN03Ha7DWzHP2us5t/9SF9/AVTcZ6Znai8jAAAAAElFTkSuQmCC\"></img></td>\n",
       "      <td id=\"T_da912_row15_col5\" class=\"data row15 col5\" >0<br>(0.0%)</td>\n",
       "    </tr>\n",
       "    <tr>\n",
       "      <td id=\"T_da912_row16_col0\" class=\"data row16 col0\" >17</td>\n",
       "      <td id=\"T_da912_row16_col1\" class=\"data row16 col1\" ><strong>Year</strong><br>[int64]</td>\n",
       "      <td id=\"T_da912_row16_col2\" class=\"data row16 col2\" >Mean (sd) : 2006.0 (9.0)<br>min < med < max:<br>1899.0 < 2007.0 < 2019.0<br>IQR (CV) : 11.0 (222.8)</td>\n",
       "      <td id=\"T_da912_row16_col3\" class=\"data row16 col3\" >32 distinct values</td>\n",
       "      <td id=\"T_da912_row16_col4\" class=\"data row16 col4\" ><img src = \"data:image/png;base64, iVBORw0KGgoAAAANSUhEUgAAAKoAAABGCAYAAABc8A97AAAAOXRFWHRTb2Z0d2FyZQBNYXRwbG90bGliIHZlcnNpb24zLjUuMiwgaHR0cHM6Ly9tYXRwbG90bGliLm9yZy8qNh9FAAAACXBIWXMAAA9hAAAPYQGoP6dpAAAB4ElEQVR4nO3dT2rCQBiG8W9aa6OLCUHIJXoDD9HD9ghdeAJv4E6QEPFPqJp01dIutDpjtG94ftsw8C2ezejA55qmMeC/e7j3AMA5evceAN3hnBuYWT/w+EfTNNtjHwkVV+GcG4xGo1fvfRZyfrlcFs65t2OxEiqupe+9z8bj8TZN0+qSg2VZJpPJJFssFn0zI1S0L03TKs/zTcDRwamPXKYggVAhgVAhgVAhgVAhgVAhgVAhgVAhgVAhgVAhgVAhgf/68S3ymZ6v6/rpmvP8RKgws/hnervdLjkcDi9VVb2bWcijlJMIFV+Cn+mZmc1ms2w6nQ73+/1jG8MRKn4JfaZXFMXJZ3qxuExBAqFCAqFCAqFCAqFCAqFCAqFCAqFCAqFCAqFCAqFCAqFCAqFCAqFCAqFCAqFCAqFCAqFCAqFCAqFCAqFCAqFCAqFCAqFCAqFCAqFCAqFCAqFCAqFCAqFCAqFCAqFCAqFCAqFCAqFCAqFCAssmOiZiV1Sre6JiEWqHxOyKantPVCxC7ZbgXVFt74mKRagdFLIrqu09UbG4TEECoUICoUICoUICoUICoUICoUICoULCnz/4O+cSM3u+wSyI5+u67pVlmVx6cLVaJWZm6/U6mc/nw1ueP2feT1VJeIaiYS37AAAAAElFTkSuQmCC\"></img></td>\n",
       "      <td id=\"T_da912_row16_col5\" class=\"data row16 col5\" >0<br>(0.0%)</td>\n",
       "    </tr>\n",
       "  </tbody>\n",
       "</table>\n"
      ],
      "text/plain": [
       "<pandas.io.formats.style.Styler at 0x27441225e50>"
      ]
     },
     "execution_count": 499,
     "metadata": {},
     "output_type": "execute_result"
    }
   ],
   "source": [
    "## using summarytool\n",
    "import summarytools\n",
    "from summarytools import dfSummary\n",
    "dfSummary(df)"
   ]
  },
  {
   "cell_type": "markdown",
   "id": "6c48c939",
   "metadata": {},
   "source": [
    "## Finding and procedure"
   ]
  },
  {
   "cell_type": "raw",
   "id": "012dff38",
   "metadata": {},
   "source": [
    "1) we have 2317 rows and 17 columns\n",
    "2) out of the 17 columns 15 columns carry nan values in which 3 columns Unit_Id,WhoVerified,DateVerified contain more than 90% missing values, Hence we will be dropping them.\n",
    "3) There is also redundancy in the data such as the Air Temp in Celsius, Air temp in F. but since they carry the data information but in different unit we will be dropping the Air Temp in Celsius as it contains most number of Null values\n",
    "4) most of the numerical contain nan values , we cannot directly use mean imputation. we have to the impulation based on the label class.\n",
    "5) the columns year column and Read_Date column also contain the values, so we will exacting the month from the read_Date column and drop it"
   ]
  },
  {
   "cell_type": "markdown",
   "id": "75ef2902",
   "metadata": {},
   "source": [
    "## 4.0 Process the data"
   ]
  },
  {
   "cell_type": "markdown",
   "id": "27274180",
   "metadata": {},
   "source": [
    "### 4.1  Conduct any data prepartion that should be done *BEFORE* the data split"
   ]
  },
  {
   "cell_type": "markdown",
   "id": "2e2ac64c",
   "metadata": {},
   "source": [
    "#### Droping columns/variables we will not be using"
   ]
  },
  {
   "cell_type": "code",
   "execution_count": 500,
   "id": "677a90a6",
   "metadata": {},
   "outputs": [],
   "source": [
    "df.drop('Unit_Id',axis=1,inplace=True)## droping Since 98% of the values are missing "
   ]
  },
  {
   "cell_type": "code",
   "execution_count": 501,
   "id": "67fc8c7c",
   "metadata": {},
   "outputs": [],
   "source": [
    "df.drop('DateVerified',axis=1,inplace=True) ## droping 91% of the values are missing "
   ]
  },
  {
   "cell_type": "code",
   "execution_count": 502,
   "id": "9f3d1609",
   "metadata": {},
   "outputs": [],
   "source": [
    "df.drop('WhoVerified',axis=1,inplace=True) ## droping 91% of the values are missing "
   ]
  },
  {
   "cell_type": "code",
   "execution_count": 503,
   "id": "e1d55f87",
   "metadata": {},
   "outputs": [],
   "source": [
    "df.drop('Field_Tech',axis=1,inplace=True) ## dropping since the names of people are not directly impact our predictor variable"
   ]
  },
  {
   "cell_type": "code",
   "execution_count": 504,
   "id": "a290fd98",
   "metadata": {},
   "outputs": [],
   "source": [
    "df.drop('Air Temp-Celsius',axis=1,inplace=True) ## dropping since duplicate"
   ]
  },
  {
   "cell_type": "code",
   "execution_count": 505,
   "id": "e63c4b3d",
   "metadata": {},
   "outputs": [],
   "source": [
    "df.drop('AirTemp (C)',axis=1,inplace=True) ## dropping since duplicate"
   ]
  },
  {
   "cell_type": "code",
   "execution_count": 506,
   "id": "d3adb984",
   "metadata": {},
   "outputs": [],
   "source": [
    "df.drop('Time (24:00)',axis=1,inplace=True)"
   ]
  },
  {
   "cell_type": "code",
   "execution_count": 507,
   "id": "66507c3d",
   "metadata": {},
   "outputs": [
    {
     "data": {
      "text/html": [
       "<div>\n",
       "<style scoped>\n",
       "    .dataframe tbody tr th:only-of-type {\n",
       "        vertical-align: middle;\n",
       "    }\n",
       "\n",
       "    .dataframe tbody tr th {\n",
       "        vertical-align: top;\n",
       "    }\n",
       "\n",
       "    .dataframe thead th {\n",
       "        text-align: right;\n",
       "    }\n",
       "</style>\n",
       "<table border=\"1\" class=\"dataframe\">\n",
       "  <thead>\n",
       "    <tr style=\"text-align: right;\">\n",
       "      <th></th>\n",
       "      <th>Site_Id</th>\n",
       "      <th>Read_Date</th>\n",
       "      <th>Salinity (ppt)</th>\n",
       "      <th>Dissolved Oxygen (mg/L)</th>\n",
       "      <th>pH (standard units)</th>\n",
       "      <th>Secchi Depth (m)</th>\n",
       "      <th>Water Depth (m)</th>\n",
       "      <th>Water Temp (?C)</th>\n",
       "      <th>Air Temp (?F)</th>\n",
       "      <th>Year</th>\n",
       "    </tr>\n",
       "  </thead>\n",
       "  <tbody>\n",
       "    <tr>\n",
       "      <th>0</th>\n",
       "      <td>Bay</td>\n",
       "      <td>1/3/1994</td>\n",
       "      <td>1.3</td>\n",
       "      <td>11.7</td>\n",
       "      <td>7.3</td>\n",
       "      <td>0.40</td>\n",
       "      <td>0.40</td>\n",
       "      <td>5.9</td>\n",
       "      <td>46.40</td>\n",
       "      <td>1994</td>\n",
       "    </tr>\n",
       "    <tr>\n",
       "      <th>1</th>\n",
       "      <td>Bay</td>\n",
       "      <td>1/31/1994</td>\n",
       "      <td>1.5</td>\n",
       "      <td>12.0</td>\n",
       "      <td>7.4</td>\n",
       "      <td>0.20</td>\n",
       "      <td>0.35</td>\n",
       "      <td>3.0</td>\n",
       "      <td>36.68</td>\n",
       "      <td>1994</td>\n",
       "    </tr>\n",
       "    <tr>\n",
       "      <th>2</th>\n",
       "      <td>Bay</td>\n",
       "      <td>2/7/1994</td>\n",
       "      <td>1.0</td>\n",
       "      <td>10.5</td>\n",
       "      <td>7.2</td>\n",
       "      <td>0.25</td>\n",
       "      <td>0.60</td>\n",
       "      <td>5.9</td>\n",
       "      <td>45.68</td>\n",
       "      <td>1994</td>\n",
       "    </tr>\n",
       "    <tr>\n",
       "      <th>3</th>\n",
       "      <td>Bay</td>\n",
       "      <td>2/23/1994</td>\n",
       "      <td>1.0</td>\n",
       "      <td>10.1</td>\n",
       "      <td>7.4</td>\n",
       "      <td>0.35</td>\n",
       "      <td>0.50</td>\n",
       "      <td>10.0</td>\n",
       "      <td>36.86</td>\n",
       "      <td>1994</td>\n",
       "    </tr>\n",
       "    <tr>\n",
       "      <th>4</th>\n",
       "      <td>Bay</td>\n",
       "      <td>2/28/1994</td>\n",
       "      <td>1.0</td>\n",
       "      <td>12.6</td>\n",
       "      <td>7.2</td>\n",
       "      <td>0.20</td>\n",
       "      <td>0.40</td>\n",
       "      <td>1.6</td>\n",
       "      <td>32.00</td>\n",
       "      <td>1994</td>\n",
       "    </tr>\n",
       "  </tbody>\n",
       "</table>\n",
       "</div>"
      ],
      "text/plain": [
       "  Site_Id  Read_Date  Salinity (ppt)  Dissolved Oxygen (mg/L)  \\\n",
       "0     Bay   1/3/1994             1.3                     11.7   \n",
       "1     Bay  1/31/1994             1.5                     12.0   \n",
       "2     Bay   2/7/1994             1.0                     10.5   \n",
       "3     Bay  2/23/1994             1.0                     10.1   \n",
       "4     Bay  2/28/1994             1.0                     12.6   \n",
       "\n",
       "   pH (standard units)  Secchi Depth (m)  Water Depth (m)  Water Temp (?C)  \\\n",
       "0                  7.3              0.40             0.40              5.9   \n",
       "1                  7.4              0.20             0.35              3.0   \n",
       "2                  7.2              0.25             0.60              5.9   \n",
       "3                  7.4              0.35             0.50             10.0   \n",
       "4                  7.2              0.20             0.40              1.6   \n",
       "\n",
       "   Air Temp (?F)  Year  \n",
       "0          46.40  1994  \n",
       "1          36.68  1994  \n",
       "2          45.68  1994  \n",
       "3          36.86  1994  \n",
       "4          32.00  1994  "
      ]
     },
     "execution_count": 507,
     "metadata": {},
     "output_type": "execute_result"
    }
   ],
   "source": [
    "df.head()"
   ]
  },
  {
   "cell_type": "markdown",
   "id": "608906c0",
   "metadata": {},
   "source": [
    "### converting the read_date column into the data-time formate"
   ]
  },
  {
   "cell_type": "code",
   "execution_count": 508,
   "id": "b641a875",
   "metadata": {},
   "outputs": [],
   "source": [
    "df['Read_Date'] = pd.to_datetime(df['Read_Date'])"
   ]
  },
  {
   "cell_type": "code",
   "execution_count": 509,
   "id": "18ec034b",
   "metadata": {},
   "outputs": [],
   "source": [
    "df['Month'] = df['Read_Date'].dt.month"
   ]
  },
  {
   "cell_type": "code",
   "execution_count": 510,
   "id": "206b8aee",
   "metadata": {},
   "outputs": [],
   "source": [
    "df.drop('Read_Date',axis=1,inplace=True) ## dropping the Read_Date column as we have exacted the month and Year is already present as a column"
   ]
  },
  {
   "cell_type": "code",
   "execution_count": 511,
   "id": "f622dee2",
   "metadata": {},
   "outputs": [
    {
     "data": {
      "text/html": [
       "<div>\n",
       "<style scoped>\n",
       "    .dataframe tbody tr th:only-of-type {\n",
       "        vertical-align: middle;\n",
       "    }\n",
       "\n",
       "    .dataframe tbody tr th {\n",
       "        vertical-align: top;\n",
       "    }\n",
       "\n",
       "    .dataframe thead th {\n",
       "        text-align: right;\n",
       "    }\n",
       "</style>\n",
       "<table border=\"1\" class=\"dataframe\">\n",
       "  <thead>\n",
       "    <tr style=\"text-align: right;\">\n",
       "      <th></th>\n",
       "      <th>Site_Id</th>\n",
       "      <th>Salinity (ppt)</th>\n",
       "      <th>Dissolved Oxygen (mg/L)</th>\n",
       "      <th>pH (standard units)</th>\n",
       "      <th>Secchi Depth (m)</th>\n",
       "      <th>Water Depth (m)</th>\n",
       "      <th>Water Temp (?C)</th>\n",
       "      <th>Air Temp (?F)</th>\n",
       "      <th>Year</th>\n",
       "      <th>Month</th>\n",
       "    </tr>\n",
       "  </thead>\n",
       "  <tbody>\n",
       "    <tr>\n",
       "      <th>0</th>\n",
       "      <td>Bay</td>\n",
       "      <td>1.3</td>\n",
       "      <td>11.7</td>\n",
       "      <td>7.3</td>\n",
       "      <td>0.40</td>\n",
       "      <td>0.40</td>\n",
       "      <td>5.9</td>\n",
       "      <td>46.40</td>\n",
       "      <td>1994</td>\n",
       "      <td>1.0</td>\n",
       "    </tr>\n",
       "    <tr>\n",
       "      <th>1</th>\n",
       "      <td>Bay</td>\n",
       "      <td>1.5</td>\n",
       "      <td>12.0</td>\n",
       "      <td>7.4</td>\n",
       "      <td>0.20</td>\n",
       "      <td>0.35</td>\n",
       "      <td>3.0</td>\n",
       "      <td>36.68</td>\n",
       "      <td>1994</td>\n",
       "      <td>1.0</td>\n",
       "    </tr>\n",
       "    <tr>\n",
       "      <th>2</th>\n",
       "      <td>Bay</td>\n",
       "      <td>1.0</td>\n",
       "      <td>10.5</td>\n",
       "      <td>7.2</td>\n",
       "      <td>0.25</td>\n",
       "      <td>0.60</td>\n",
       "      <td>5.9</td>\n",
       "      <td>45.68</td>\n",
       "      <td>1994</td>\n",
       "      <td>2.0</td>\n",
       "    </tr>\n",
       "    <tr>\n",
       "      <th>3</th>\n",
       "      <td>Bay</td>\n",
       "      <td>1.0</td>\n",
       "      <td>10.1</td>\n",
       "      <td>7.4</td>\n",
       "      <td>0.35</td>\n",
       "      <td>0.50</td>\n",
       "      <td>10.0</td>\n",
       "      <td>36.86</td>\n",
       "      <td>1994</td>\n",
       "      <td>2.0</td>\n",
       "    </tr>\n",
       "    <tr>\n",
       "      <th>4</th>\n",
       "      <td>Bay</td>\n",
       "      <td>1.0</td>\n",
       "      <td>12.6</td>\n",
       "      <td>7.2</td>\n",
       "      <td>0.20</td>\n",
       "      <td>0.40</td>\n",
       "      <td>1.6</td>\n",
       "      <td>32.00</td>\n",
       "      <td>1994</td>\n",
       "      <td>2.0</td>\n",
       "    </tr>\n",
       "  </tbody>\n",
       "</table>\n",
       "</div>"
      ],
      "text/plain": [
       "  Site_Id  Salinity (ppt)  Dissolved Oxygen (mg/L)  pH (standard units)  \\\n",
       "0     Bay             1.3                     11.7                  7.3   \n",
       "1     Bay             1.5                     12.0                  7.4   \n",
       "2     Bay             1.0                     10.5                  7.2   \n",
       "3     Bay             1.0                     10.1                  7.4   \n",
       "4     Bay             1.0                     12.6                  7.2   \n",
       "\n",
       "   Secchi Depth (m)  Water Depth (m)  Water Temp (?C)  Air Temp (?F)  Year  \\\n",
       "0              0.40             0.40              5.9          46.40  1994   \n",
       "1              0.20             0.35              3.0          36.68  1994   \n",
       "2              0.25             0.60              5.9          45.68  1994   \n",
       "3              0.35             0.50             10.0          36.86  1994   \n",
       "4              0.20             0.40              1.6          32.00  1994   \n",
       "\n",
       "   Month  \n",
       "0    1.0  \n",
       "1    1.0  \n",
       "2    2.0  \n",
       "3    2.0  \n",
       "4    2.0  "
      ]
     },
     "execution_count": 511,
     "metadata": {},
     "output_type": "execute_result"
    }
   ],
   "source": [
    "df.head()"
   ]
  },
  {
   "cell_type": "markdown",
   "id": "fc2abba3",
   "metadata": {},
   "source": [
    "### Dropping all the nan values in the target variable"
   ]
  },
  {
   "cell_type": "code",
   "execution_count": 512,
   "id": "9f9aef63",
   "metadata": {},
   "outputs": [],
   "source": [
    "df = df[df['Site_Id'].notna()]"
   ]
  },
  {
   "cell_type": "code",
   "execution_count": 513,
   "id": "88de8fc2",
   "metadata": {},
   "outputs": [
    {
     "data": {
      "text/plain": [
       "2370"
      ]
     },
     "execution_count": 513,
     "metadata": {},
     "output_type": "execute_result"
    }
   ],
   "source": [
    "len(df) ## dropped the single null value "
   ]
  },
  {
   "cell_type": "markdown",
   "id": "b189db15",
   "metadata": {},
   "source": [
    "### we can see that one of the value D is marked as small d . we will convert this label"
   ]
  },
  {
   "cell_type": "code",
   "execution_count": 514,
   "id": "173a928a",
   "metadata": {},
   "outputs": [
    {
     "data": {
      "text/plain": [
       "Bay    794\n",
       "D      440\n",
       "B      437\n",
       "A      434\n",
       "C      264\n",
       "d        1\n",
       "Name: Site_Id, dtype: int64"
      ]
     },
     "execution_count": 514,
     "metadata": {},
     "output_type": "execute_result"
    }
   ],
   "source": [
    "df['Site_Id'].value_counts() "
   ]
  },
  {
   "cell_type": "code",
   "execution_count": 515,
   "id": "52ea8ceb",
   "metadata": {},
   "outputs": [],
   "source": [
    "df['Site_Id'] = df['Site_Id'].replace(['d'], 'D')"
   ]
  },
  {
   "cell_type": "code",
   "execution_count": 516,
   "id": "86c29a69",
   "metadata": {},
   "outputs": [
    {
     "data": {
      "text/plain": [
       "Bay    794\n",
       "D      441\n",
       "B      437\n",
       "A      434\n",
       "C      264\n",
       "Name: Site_Id, dtype: int64"
      ]
     },
     "execution_count": 516,
     "metadata": {},
     "output_type": "execute_result"
    }
   ],
   "source": [
    "df['Site_Id'].value_counts() "
   ]
  },
  {
   "cell_type": "markdown",
   "id": "c962669b",
   "metadata": {},
   "source": [
    "### Converting the label "
   ]
  },
  {
   "cell_type": "code",
   "execution_count": 517,
   "id": "67478d7f",
   "metadata": {},
   "outputs": [],
   "source": [
    "labelencoder = LabelEncoder()"
   ]
  },
  {
   "cell_type": "code",
   "execution_count": 518,
   "id": "63aac123",
   "metadata": {},
   "outputs": [],
   "source": [
    "df['Site_Id'] = labelencoder.fit_transform(df['Site_Id'])"
   ]
  },
  {
   "cell_type": "code",
   "execution_count": 519,
   "id": "9367f5d6",
   "metadata": {},
   "outputs": [
    {
     "data": {
      "text/plain": [
       "2    794\n",
       "4    441\n",
       "1    437\n",
       "0    434\n",
       "3    264\n",
       "Name: Site_Id, dtype: int64"
      ]
     },
     "execution_count": 519,
     "metadata": {},
     "output_type": "execute_result"
    }
   ],
   "source": [
    "df['Site_Id'].value_counts()"
   ]
  },
  {
   "cell_type": "markdown",
   "id": "1cd0dc20",
   "metadata": {},
   "source": [
    "### Safe the pre-split processed data to a csv file"
   ]
  },
  {
   "cell_type": "code",
   "execution_count": 520,
   "id": "f0432bea",
   "metadata": {},
   "outputs": [],
   "source": [
    "df.to_csv('Water_Quality_presplit_processed.csv', index=False)"
   ]
  },
  {
   "cell_type": "markdown",
   "id": "7d6ac7df",
   "metadata": {},
   "source": [
    "### 4.2 Split data (train/test)"
   ]
  },
  {
   "cell_type": "code",
   "execution_count": 521,
   "id": "e886b1ee",
   "metadata": {},
   "outputs": [],
   "source": [
    "# split the data into validation and training set\n",
    "train_df, test_df = train_test_split(df, test_size=0.3)\n",
    "target = 'Site_Id'\n",
    "predictors = list(df.columns)\n",
    "predictors.remove(target)"
   ]
  },
  {
   "cell_type": "markdown",
   "id": "e95bf212",
   "metadata": {},
   "source": [
    "### 4.3  Conduct any data prepartion that should be done *AFTER* the data split"
   ]
  },
  {
   "cell_type": "markdown",
   "id": "2539a8f2",
   "metadata": {},
   "source": [
    "#### Impute missing values"
   ]
  },
  {
   "cell_type": "code",
   "execution_count": 522,
   "id": "6b70bf8e",
   "metadata": {},
   "outputs": [
    {
     "data": {
      "text/plain": [
       "Site_Id                      0\n",
       "Salinity (ppt)             129\n",
       "Dissolved Oxygen (mg/L)    850\n",
       "pH (standard units)         94\n",
       "Secchi Depth (m)            72\n",
       "Water Depth (m)             70\n",
       "Water Temp (?C)            120\n",
       "Air Temp (?F)               70\n",
       "Year                         0\n",
       "Month                        4\n",
       "dtype: int64"
      ]
     },
     "execution_count": 522,
     "metadata": {},
     "output_type": "execute_result"
    }
   ],
   "source": [
    "df.isnull().sum()"
   ]
  },
  {
   "cell_type": "code",
   "execution_count": 523,
   "id": "444bc293",
   "metadata": {},
   "outputs": [
    {
     "data": {
      "text/plain": [
       "2    794\n",
       "4    441\n",
       "1    437\n",
       "0    434\n",
       "3    264\n",
       "Name: Site_Id, dtype: int64"
      ]
     },
     "execution_count": 523,
     "metadata": {},
     "output_type": "execute_result"
    }
   ],
   "source": [
    "df['Site_Id'].value_counts()"
   ]
  },
  {
   "cell_type": "code",
   "execution_count": 524,
   "id": "279588e8",
   "metadata": {},
   "outputs": [
    {
     "data": {
      "text/plain": [
       "88"
      ]
     },
     "execution_count": 524,
     "metadata": {},
     "output_type": "execute_result"
    }
   ],
   "source": [
    "train_df['Salinity (ppt)'].isnull().sum()"
   ]
  },
  {
   "cell_type": "code",
   "execution_count": 525,
   "id": "f98af0de",
   "metadata": {},
   "outputs": [
    {
     "data": {
      "text/plain": [
       "1659"
      ]
     },
     "execution_count": 525,
     "metadata": {},
     "output_type": "execute_result"
    }
   ],
   "source": [
    "len(train_df)"
   ]
  },
  {
   "cell_type": "markdown",
   "id": "76434625",
   "metadata": {},
   "source": [
    "### Filling the null values for both the train and test data"
   ]
  },
  {
   "cell_type": "code",
   "execution_count": 526,
   "id": "f44d8ffb",
   "metadata": {},
   "outputs": [],
   "source": [
    "### Salinity\n",
    "## this will act as the fit_transform\n",
    "train_df['Salinity (ppt)'] = train_df['Salinity (ppt)'].fillna(df.groupby('Site_Id')['Salinity (ppt)'].transform('mean'))\n",
    "## this will act as the tranform\n",
    "test_df['Salinity (ppt)'] = test_df['Salinity (ppt)'].fillna(df.groupby('Site_Id')['Salinity (ppt)'].transform('mean'))"
   ]
  },
  {
   "cell_type": "code",
   "execution_count": 527,
   "id": "a9de5ff8",
   "metadata": {},
   "outputs": [],
   "source": [
    "# Dissolved Oxygen (mg/L)\n",
    "train_df['Dissolved Oxygen (mg/L)'] = train_df['Dissolved Oxygen (mg/L)'].fillna(df.groupby('Site_Id')['Dissolved Oxygen (mg/L)'].transform('mean'))\n",
    "test_df['Dissolved Oxygen (mg/L)'] = test_df['Dissolved Oxygen (mg/L)'].fillna(df.groupby('Site_Id')['Dissolved Oxygen (mg/L)'].transform('mean'))"
   ]
  },
  {
   "cell_type": "code",
   "execution_count": 528,
   "id": "2b349150",
   "metadata": {},
   "outputs": [],
   "source": [
    "# pH (standard units)\n",
    "train_df['pH (standard units)'] = train_df['pH (standard units)'].fillna(df.groupby('Site_Id')['pH (standard units)'].transform('mean'))\n",
    "test_df['pH (standard units)'] = test_df['pH (standard units)'].fillna(df.groupby('Site_Id')['pH (standard units)'].transform('mean'))"
   ]
  },
  {
   "cell_type": "code",
   "execution_count": 529,
   "id": "aa057b94",
   "metadata": {},
   "outputs": [],
   "source": [
    "# Secchi Depth (m)\n",
    "train_df['Secchi Depth (m)'] = train_df['Secchi Depth (m)'].fillna(df.groupby('Site_Id')['Secchi Depth (m)'].transform('mean'))\n",
    "test_df['Secchi Depth (m)'] = test_df['Secchi Depth (m)'].fillna(df.groupby('Site_Id')['Secchi Depth (m)'].transform('mean'))"
   ]
  },
  {
   "cell_type": "code",
   "execution_count": 530,
   "id": "aec766ce",
   "metadata": {},
   "outputs": [],
   "source": [
    "# Water Depth (m)\n",
    "train_df['Water Depth (m)'] = train_df['Water Depth (m)'].fillna(df.groupby('Site_Id')['Water Depth (m)'].transform('mean'))\n",
    "test_df['Water Depth (m)'] = test_df['Water Depth (m)'].fillna(df.groupby('Site_Id')['Water Depth (m)'].transform('mean'))"
   ]
  },
  {
   "cell_type": "code",
   "execution_count": 531,
   "id": "7635f6ef",
   "metadata": {},
   "outputs": [],
   "source": [
    "# Water Temp (?C)                        \n",
    "train_df['Water Temp (?C)'] = train_df['Water Temp (?C)'].fillna(df.groupby('Site_Id')['Water Temp (?C)'].transform('mean'))\n",
    "test_df['Water Temp (?C)'] = test_df['Water Temp (?C)'].fillna(df.groupby('Site_Id')['Water Temp (?C)'].transform('mean'))"
   ]
  },
  {
   "cell_type": "code",
   "execution_count": 532,
   "id": "fec25324",
   "metadata": {},
   "outputs": [],
   "source": [
    "# Air Temp (?F)\n",
    "train_df['Air Temp (?F)'] = train_df['Air Temp (?F)'].fillna(df.groupby('Site_Id')['Air Temp (?F)'].transform('mean'))\n",
    "test_df['Air Temp (?F)'] = test_df['Air Temp (?F)'].fillna(df.groupby('Site_Id')['Air Temp (?F)'].transform('mean'))"
   ]
  },
  {
   "cell_type": "code",
   "execution_count": 533,
   "id": "6c1605be",
   "metadata": {},
   "outputs": [],
   "source": [
    "# Month                        \n",
    "train_df['Month'] = train_df['Month'].fillna(df.groupby('Site_Id')['Month'].transform('mean'))\n",
    "test_df['Month'] = test_df['Month'].fillna(df.groupby('Site_Id')['Month'].transform('mean'))"
   ]
  },
  {
   "cell_type": "code",
   "execution_count": 534,
   "id": "97f2cb99",
   "metadata": {},
   "outputs": [
    {
     "data": {
      "text/plain": [
       "Site_Id                    0\n",
       "Salinity (ppt)             0\n",
       "Dissolved Oxygen (mg/L)    0\n",
       "pH (standard units)        0\n",
       "Secchi Depth (m)           0\n",
       "Water Depth (m)            0\n",
       "Water Temp (?C)            0\n",
       "Air Temp (?F)              0\n",
       "Year                       0\n",
       "Month                      0\n",
       "dtype: int64"
      ]
     },
     "execution_count": 534,
     "metadata": {},
     "output_type": "execute_result"
    }
   ],
   "source": [
    "train_df.isnull().sum()"
   ]
  },
  {
   "cell_type": "code",
   "execution_count": 535,
   "id": "8c13da3a",
   "metadata": {},
   "outputs": [
    {
     "data": {
      "text/plain": [
       "Site_Id                    0\n",
       "Salinity (ppt)             0\n",
       "Dissolved Oxygen (mg/L)    0\n",
       "pH (standard units)        0\n",
       "Secchi Depth (m)           0\n",
       "Water Depth (m)            0\n",
       "Water Temp (?C)            0\n",
       "Air Temp (?F)              0\n",
       "Year                       0\n",
       "Month                      0\n",
       "dtype: int64"
      ]
     },
     "execution_count": 535,
     "metadata": {},
     "output_type": "execute_result"
    }
   ],
   "source": [
    "test_df.isnull().sum()"
   ]
  },
  {
   "cell_type": "markdown",
   "id": "38c434f2",
   "metadata": {},
   "source": [
    "#### From the both the train and training data we have imputed the null values using the means of the respected class varaiables which will helps us to reduce the data leak."
   ]
  },
  {
   "cell_type": "markdown",
   "id": "4b733a7b",
   "metadata": {},
   "source": [
    "## Standardize numeric values"
   ]
  },
  {
   "cell_type": "code",
   "execution_count": 536,
   "id": "90b8ddbf",
   "metadata": {},
   "outputs": [
    {
     "data": {
      "text/plain": [
       "Index(['Site_Id', 'Salinity (ppt)', 'Dissolved Oxygen (mg/L)',\n",
       "       'pH (standard units)', 'Secchi Depth (m)', 'Water Depth (m)',\n",
       "       'Water Temp (?C)', 'Air Temp (?F)', 'Year', 'Month'],\n",
       "      dtype='object')"
      ]
     },
     "execution_count": 536,
     "metadata": {},
     "output_type": "execute_result"
    }
   ],
   "source": [
    "df.columns"
   ]
  },
  {
   "cell_type": "code",
   "execution_count": 537,
   "id": "264c7142",
   "metadata": {},
   "outputs": [],
   "source": [
    "# create a standard scaler and fit it to the training set of predictors\n",
    "scaler = preprocessing.StandardScaler()\n",
    "cols_to_stdize = ['Salinity (ppt)', 'Dissolved Oxygen (mg/L)',\n",
    "       'pH (standard units)', 'Secchi Depth (m)', 'Water Depth (m)',\n",
    "       'Water Temp (?C)', 'Air Temp (?F)','Year', 'Month']                \n",
    "               \n",
    "# Transform the predictors of training and validation sets\n",
    "train_df[cols_to_stdize] = scaler.fit_transform(train_df[cols_to_stdize]) # train_predictors is not a numpy array\n",
    "\n",
    "\n",
    "test_df[cols_to_stdize] = scaler.transform(test_df[cols_to_stdize]) # validation_target is now a series object"
   ]
  },
  {
   "cell_type": "markdown",
   "id": "3dd5fdd3",
   "metadata": {},
   "source": [
    "## Addressing class imbalance "
   ]
  },
  {
   "cell_type": "code",
   "execution_count": 539,
   "id": "a0174885",
   "metadata": {},
   "outputs": [],
   "source": [
    "train_X = train_df[predictors]\n",
    "train_y = train_df[target] \n",
    "test_X = test_df[predictors]\n",
    "test_yd = test_df[target]"
   ]
  },
  {
   "cell_type": "code",
   "execution_count": 544,
   "id": "f5906193",
   "metadata": {},
   "outputs": [],
   "source": [
    "import imblearn\n",
    "from collections import Counter"
   ]
  },
  {
   "cell_type": "code",
   "execution_count": 547,
   "id": "b0a8ddb1",
   "metadata": {},
   "outputs": [
    {
     "data": {
      "text/plain": [
       "2    563\n",
       "4    312\n",
       "0    310\n",
       "1    300\n",
       "3    174\n",
       "Name: Site_Id, dtype: int64"
      ]
     },
     "execution_count": 547,
     "metadata": {},
     "output_type": "execute_result"
    }
   ],
   "source": [
    "train_y.value_counts()"
   ]
  },
  {
   "cell_type": "code",
   "execution_count": 545,
   "id": "0cd254ee",
   "metadata": {},
   "outputs": [
    {
     "name": "stdout",
     "output_type": "stream",
     "text": [
      "Counter({2: 563, 3: 563, 4: 312, 0: 310, 1: 300})\n"
     ]
    }
   ],
   "source": [
    "from imblearn.over_sampling import RandomOverSampler\n",
    "\n",
    "oversample = RandomOverSampler(sampling_strategy='minority')\n",
    "\n",
    "X_over, y_over = oversample.fit_resample(train_X, train_y)\n",
    "\n",
    "print(Counter(y_over))"
   ]
  },
  {
   "cell_type": "code",
   "execution_count": 548,
   "id": "2b4b12b4",
   "metadata": {},
   "outputs": [],
   "source": [
    "X_over.to_csv('Water_Quality_train_x.csv', index=False)\n",
    "y_over.to_csv('Water_Quality_train_y.csv', index=False)\n",
    "test_X.to_csv('Water_Quality_test_x.csv', index=False)\n",
    "test_y.to_csv('Water_Quality_test_y.csv', index=False)"
   ]
  },
  {
   "cell_type": "code",
   "execution_count": null,
   "id": "0e7cf742",
   "metadata": {},
   "outputs": [],
   "source": []
  }
 ],
 "metadata": {
  "kernelspec": {
   "display_name": "Python 3 (ipykernel)",
   "language": "python",
   "name": "python3"
  },
  "language_info": {
   "codemirror_mode": {
    "name": "ipython",
    "version": 3
   },
   "file_extension": ".py",
   "mimetype": "text/x-python",
   "name": "python",
   "nbconvert_exporter": "python",
   "pygments_lexer": "ipython3",
   "version": "3.9.13"
  }
 },
 "nbformat": 4,
 "nbformat_minor": 5
}
